{
 "cells": [
  {
   "cell_type": "code",
   "execution_count": 266,
   "metadata": {},
   "outputs": [],
   "source": [
    "import importlib\n",
    "import gptree\n",
    "importlib.reload(gptree)\n",
    "from gptree import *\n",
    "from funcs import *\n",
    "import numpy as np\n",
    "import random\n",
    "import gp\n",
    "importlib.reload(gp)\n",
    "\n",
    "import pandas as pd\n",
    "\n",
    "\n",
    "from gp_fijando_operaciones import *"
   ]
  },
  {
   "cell_type": "code",
   "execution_count": 267,
   "metadata": {},
   "outputs": [
    {
     "name": "stdout",
     "output_type": "stream",
     "text": [
      "(10900,)\n",
      "(10900,)\n"
     ]
    }
   ],
   "source": [
    "\n",
    "csvfile = pd.read_csv('unknown_function.csv')\n",
    "x=csvfile['x'].values\n",
    "print(x.shape)\n",
    "y=csvfile['y'].values\n",
    "print(y.shape)"
   ]
  },
  {
   "cell_type": "markdown",
   "metadata": {},
   "source": [
    "**Parámetros**"
   ]
  },
  {
   "cell_type": "code",
   "execution_count": 268,
   "metadata": {},
   "outputs": [
    {
     "name": "stderr",
     "output_type": "stream",
     "text": [
      "/Users/sarabordonaba/Documentos/UNI/Master/Computación evolutiva/practica grupal/c_evol/funcs.py:39: RuntimeWarning: overflow encountered in exp\n",
      "  return np.where(np.abs(x1) > INV_THRESHOLD, np.exp(np.abs(x1)), 0)\n",
      "/Users/sarabordonaba/Documentos/UNI/Master/Computación evolutiva/practica grupal/c_evol/funcs.py:20: RuntimeWarning: invalid value encountered in subtract\n",
      "  return self.operator(*args)\n",
      "/Users/sarabordonaba/Documentos/UNI/Master/Computación evolutiva/practica grupal/c_evol/funcs.py:35: RuntimeWarning: overflow encountered in divide\n",
      "  return np.where(np.abs(x2) > INV_THRESHOLD, x1/x2, x1)\n",
      "/Users/sarabordonaba/Documentos/UNI/Master/Computación evolutiva/practica grupal/c_evol/funcs.py:20: RuntimeWarning: overflow encountered in multiply\n",
      "  return self.operator(*args)\n",
      "/Users/sarabordonaba/Documentos/UNI/Master/Computación evolutiva/practica grupal/c_evol/funcs.py:20: RuntimeWarning: invalid value encountered in multiply\n",
      "  return self.operator(*args)\n",
      "/Users/sarabordonaba/Documentos/UNI/Master/Computación evolutiva/practica grupal/c_evol/funcs.py:20: RuntimeWarning: invalid value encountered in add\n",
      "  return self.operator(*args)\n",
      "/Users/sarabordonaba/Documentos/UNI/Master/Computación evolutiva/practica grupal/c_evol/gp_fijando_operaciones.py:11: RuntimeWarning: overflow encountered in power\n",
      "  return np.average(np.power(y-y_pred,2), weights=w)\n",
      "Progress: 100%|██████████| 100/100 [00:34<00:00,  2.93it/s]\n"
     ]
    },
    {
     "data": {
      "text/plain": [
       "{'total_generations': 100,\n",
       " 'best_fitness': array([         nan,          nan, 168.76816652, 168.76816652,\n",
       "        168.76816652,  41.08455823,  41.08455823,  41.08455823,\n",
       "         24.87479837,  24.87479837,  24.87479837,  17.8553805 ,\n",
       "         17.8553805 ,  17.8553805 ,  17.8553805 ,  17.8553805 ,\n",
       "         17.8553805 ,  17.8553805 ,  17.8553805 ,  17.8553805 ,\n",
       "          4.67283979,   4.67283979,   4.67283979,   4.67283979,\n",
       "          4.67283979,   4.67283979,   4.67283979,   4.67283979,\n",
       "          4.67283979,   4.67283979,   4.67283979,   4.67283979,\n",
       "          4.67283979,   4.67283979,   4.67283979,   4.67283979,\n",
       "          4.15451682,   4.15451682,   4.15451682,   4.15451682,\n",
       "          3.15011121,   3.15011121,   3.15011121,   3.15011121,\n",
       "          3.15011121,   3.15011121,   3.15011121,   3.15011121,\n",
       "          3.15011121,   3.15011121,   3.15011121,   3.15011121,\n",
       "          3.15011121,   2.82480658,   2.82480658,   2.82480658,\n",
       "          2.55249811,   2.55249811,   2.35021391,   2.35021391,\n",
       "          2.35021391,   2.34317767,   2.34317767,   2.25537022,\n",
       "          2.18981387,   2.18868158,   2.1514308 ,   2.1514308 ,\n",
       "          2.1514308 ,   2.1514308 ,   2.14351031,   2.14351026,\n",
       "          2.12592646,   2.12592644,   2.12592616,   2.12592616,\n",
       "          2.12592616,   2.12577723,   2.11366315,   2.11366315,\n",
       "          2.11366315,   2.11366315,   2.10819   ,   2.10819   ,\n",
       "          2.10819   ,   2.10819   ,   2.10818975,   2.10818975,\n",
       "          2.10818975,   2.10818975,   2.10818975,   2.11401829,\n",
       "          2.11311804,   2.10394244,   2.10394244,   2.10000586,\n",
       "          2.10384333,   2.10003487,   2.09716691,   2.10003487,\n",
       "          2.10000586]),\n",
       " 'best_trees': array([Node(div), Node(div), Node(div), Node(div), Node(div), Node(div),\n",
       "        Node(div), Node(div), Node(div), Node(div), Node(div), Node(div),\n",
       "        Node(div), Node(div), Node(div), Node(div), Node(div), Node(div),\n",
       "        Node(div), Node(div), Node(div), Node(div), Node(div), Node(div),\n",
       "        Node(div), Node(div), Node(div), Node(div), Node(div), Node(div),\n",
       "        Node(div), Node(div), Node(div), Node(div), Node(div), Node(div),\n",
       "        Node(div), Node(div), Node(div), Node(div), Node(div), Node(div),\n",
       "        Node(div), Node(div), Node(div), Node(div), Node(div), Node(div),\n",
       "        Node(div), Node(div), Node(div), Node(div), Node(div), Node(div),\n",
       "        Node(div), Node(div), Node(div), Node(div), Node(div), Node(div),\n",
       "        Node(div), Node(div), Node(div), Node(div), Node(div), Node(div),\n",
       "        Node(div), Node(div), Node(div), Node(div), Node(div), Node(div),\n",
       "        Node(div), Node(div), Node(div), Node(div), Node(div), Node(div),\n",
       "        Node(div), Node(div), Node(div), Node(div), Node(div), Node(div),\n",
       "        Node(div), Node(div), Node(div), Node(div), Node(div), Node(div),\n",
       "        Node(div), Node(div), Node(div), Node(div), Node(div), Node(div),\n",
       "        Node(div), Node(div), Node(div), Node(div), Node(div)],\n",
       "       dtype=object),\n",
       " 'mean_fitness': array([           nan,            nan, 2.76883881e+06,            inf,\n",
       "        1.16729849e+07, 1.17817768e+07, 2.72367131e+07, 2.96028380e+07,\n",
       "        1.32097375e+07, 1.41578882e+07, 7.24855824e+06, 5.58326803e+03,\n",
       "        6.68862319e+03, 6.82247436e+03, 5.41035868e+03, 6.39272793e+03,\n",
       "        4.76895835e+03, 5.62025104e+03, 7.24166144e+03, 5.40947559e+03,\n",
       "        6.34792466e+03, 4.54587955e+03, 6.21763940e+03, 5.61314884e+03,\n",
       "        5.31608913e+03, 5.51274530e+03, 7.32027532e+03,            inf,\n",
       "        9.98338419e+03, 5.76497289e+03, 5.89730217e+03, 6.06927117e+03,\n",
       "        5.56783661e+03, 8.58886289e+03, 7.81970410e+03, 4.77840971e+03,\n",
       "        5.79566030e+03, 5.82972974e+03, 3.68542331e+03, 5.49661591e+03,\n",
       "        4.11630411e+03, 2.38470839e+03, 5.46773365e+03, 3.78107623e+03,\n",
       "        5.98831705e+03, 4.70818268e+03, 5.19137612e+03, 6.66361890e+03,\n",
       "        1.97375906e+03, 2.13992785e+03, 1.54626932e+03, 3.03256484e+03,\n",
       "        1.14982496e+03, 1.00809653e+03, 9.93305247e+02, 8.12980891e+02,\n",
       "        1.10458907e+03, 7.53678371e+02, 8.58871045e+02, 1.16710024e+03,\n",
       "        3.64305440e+02, 6.37563325e+02, 3.84716324e+55, 5.70475950e+02,\n",
       "        5.20492958e+02, 1.96114996e+15, 6.63312565e+02, 2.40315984e+02,\n",
       "        1.74650492e+03, 5.52198625e+02, 5.52730736e+02, 9.25877559e+02,\n",
       "        6.87117686e+02, 7.60663214e+02, 6.97965015e+02, 1.18452383e+03,\n",
       "        7.25723507e+02, 5.38638226e+02, 9.48371373e+05, 5.76138817e+02,\n",
       "        6.37031985e+02, 6.26487682e+02, 9.40176690e+02, 1.21933080e+03,\n",
       "        9.60472854e+02, 1.41426007e+03, 6.39850950e+05, 1.59372285e+03,\n",
       "        7.08502301e+02, 7.04074280e+02, 8.22861307e+02, 7.74256886e+05,\n",
       "        7.82110924e+02, 4.14975155e+02, 1.29779530e+03, 4.12016555e+02,\n",
       "        8.19751847e+02, 7.74069963e+05, 7.26904927e+02, 4.86346045e+02,\n",
       "        9.07767822e+02]),\n",
       " 'best_fitness_p': array([         nan,          nan, 171.29968902, 171.29968902,\n",
       "        171.29968902,  42.11167219,  42.11167219,  42.11167219,\n",
       "         25.37229434,  25.37229434,  25.37229434,  18.30176501,\n",
       "         18.30176501,  18.30176501,  18.30176501,  18.30176501,\n",
       "         18.30176501,  18.30176501,  18.30176501,  18.30176501,\n",
       "          4.83638918,   4.83638918,   4.83638918,   4.83638918,\n",
       "          4.83638918,   4.83638918,   4.83638918,   4.83638918,\n",
       "          4.83638918,   4.83638918,   4.83638918,   4.83638918,\n",
       "          4.83638918,   4.83638918,   4.83638918,   4.83638918,\n",
       "          4.29992491,   4.29992491,   4.29992491,   4.29992491,\n",
       "          3.370619  ,   3.370619  ,   3.370619  ,   3.370619  ,\n",
       "          3.370619  ,   3.370619  ,   3.370619  ,   3.370619  ,\n",
       "          3.370619  ,   3.370619  ,   3.370619  ,   3.370619  ,\n",
       "          3.370619  ,   3.03666708,   3.03666708,   3.03666708,\n",
       "          2.8332729 ,   2.8332729 ,   2.53823102,   2.53823102,\n",
       "          2.53823102,   2.518916  ,   2.518916  ,   2.45835354,\n",
       "          2.33215177,   2.33215177,   2.31278811,   2.31278811,\n",
       "          2.31131582,   2.31131582,   2.30427359,   2.30427353,\n",
       "          2.28537095,   2.28537092,   2.28537062,   2.28537062,\n",
       "          2.27134048,   2.27134048,   2.2534668 ,   2.2534668 ,\n",
       "          2.2534668 ,   2.2534668 ,   2.2534668 ,   2.2534668 ,\n",
       "          2.2534668 ,   2.2534668 ,   2.2534668 ,   2.2534668 ,\n",
       "          2.2534614 ,   2.2534614 ,   2.2534614 ,   2.2534614 ,\n",
       "          2.25047071,   2.2406987 ,   2.2406987 ,   2.2406987 ,\n",
       "          2.24059314,   2.23653713,   2.23653713,   2.23653713,\n",
       "          2.23653713]),\n",
       " 'mean_fitness_p': array([           nan,            nan, 2.81040906e+06,            inf,\n",
       "        1.18648742e+07, 1.19714936e+07, 2.77048532e+07, 3.01044779e+07,\n",
       "        1.34414425e+07, 1.44092532e+07, 7.39016789e+06, 5.67160348e+03,\n",
       "        6.80008343e+03, 6.90418120e+03, 5.47920052e+03, 6.48934822e+03,\n",
       "        4.83963679e+03, 5.70752940e+03, 7.34748226e+03, 5.48480581e+03,\n",
       "        6.43223536e+03, 4.61294566e+03, 6.30474174e+03, 5.69437392e+03,\n",
       "        5.39083800e+03, 5.58671317e+03, 7.41794937e+03,            inf,\n",
       "        1.01099312e+04, 5.84925412e+03, 5.98214137e+03, 6.15173097e+03,\n",
       "        5.65148175e+03, 8.70052418e+03, 7.91798107e+03, 4.85262508e+03,\n",
       "        5.87860545e+03, 5.92488965e+03, 3.76989213e+03, 5.63325065e+03,\n",
       "        4.19290111e+03, 2.44956332e+03, 5.58136292e+03, 3.88202576e+03,\n",
       "        6.11122984e+03, 4.81662897e+03, 5.33719424e+03, 6.79953934e+03,\n",
       "        2.01745101e+03, 2.17942700e+03, 1.58300496e+03, 3.09147978e+03,\n",
       "        1.17435112e+03, 1.03728362e+03, 1.01749034e+03, 8.39333217e+02,\n",
       "        1.13344783e+03, 7.82708585e+02, 8.86313647e+02, 1.20662213e+03,\n",
       "        3.76507654e+02, 6.61889805e+02, 4.15493630e+55, 5.99937815e+02,\n",
       "        5.47682161e+02, 2.09843045e+15, 6.93019694e+02, 2.54948869e+02,\n",
       "        1.78396234e+03, 5.76653127e+02, 5.78962836e+02, 9.63724707e+02,\n",
       "        7.16706089e+02, 7.89875522e+02, 7.22469453e+02, 1.21959222e+03,\n",
       "        7.55970848e+02, 5.62493231e+02, 1.01948943e+06, 6.08291778e+02,\n",
       "        6.65146620e+02, 6.56054662e+02, 9.72500330e+02, 1.25975153e+03,\n",
       "        9.93183411e+02, 1.46259349e+03, 6.81414560e+05, 1.62584062e+03,\n",
       "        7.42722618e+02, 7.33673178e+02, 8.53352838e+02, 8.24553768e+05,\n",
       "        8.07546961e+02, 4.40133306e+02, 1.33263953e+03, 4.33913015e+02,\n",
       "        8.48280421e+02, 8.24371317e+05, 7.59104410e+02, 5.11958678e+02,\n",
       "        9.39617129e+02]),\n",
       " 'P_max_depth': array([15, 11, 13, 12,  7,  7, 11, 10,  7,  7,  7,  7,  8,  8,  7,  9,  9,\n",
       "         9,  9,  9, 10,  9, 10, 12,  9,  9, 11, 10, 10, 11, 11, 15, 11, 11,\n",
       "        12, 12, 12, 17, 13, 13, 14, 16, 14, 14, 15, 14, 15, 15, 23, 23, 20,\n",
       "        21, 21, 24, 24, 26, 25, 28, 32, 27, 26, 24, 31, 27, 24, 25, 26, 34,\n",
       "        32, 25, 25, 25, 28, 28, 28, 28, 28, 28, 27, 28, 27, 28, 26, 25, 23,\n",
       "        25, 24, 26, 23, 24, 24, 24, 24, 25, 24, 24, 23, 24, 25, 25, 23]),\n",
       " 'P_mean_depth': array([ 3.866,  3.508,  3.808,  4.094,  3.014,  3.168,  3.126,  3.244,\n",
       "         3.362,  3.408,  3.878,  3.98 ,  4.076,  3.894,  3.92 ,  4.466,\n",
       "         4.752,  4.874,  4.744,  4.92 ,  4.74 ,  4.952,  4.872,  4.91 ,\n",
       "         5.002,  4.832,  4.904,  5.05 ,  5.032,  5.912,  5.912,  5.832,\n",
       "         5.756,  5.86 ,  5.896,  6.102,  6.166,  6.188,  7.004,  6.796,\n",
       "         7.026,  6.884,  6.786,  6.93 ,  7.006,  7.074,  7.476,  7.23 ,\n",
       "        10.406, 10.204,  9.918,  8.942,  9.854, 10.646, 11.634, 12.446,\n",
       "        11.782, 12.538, 12.008, 13.472, 13.38 , 13.058, 13.112, 13.896,\n",
       "        13.698, 14.674, 14.662, 16.844, 14.276, 13.388, 13.79 , 13.284,\n",
       "        14.55 , 13.944, 14.472, 14.704, 14.746, 14.83 , 14.748, 14.86 ,\n",
       "        14.634, 14.688, 14.112, 13.048, 13.108, 13.242, 13.2  , 13.32 ,\n",
       "        13.246, 13.298, 13.278, 12.822, 12.8  , 13.308, 12.986, 13.336,\n",
       "        13.054, 13.274, 13.202, 13.148, 13.262])}"
      ]
     },
     "execution_count": 268,
     "metadata": {},
     "output_type": "execute_result"
    }
   ],
   "source": [
    "funcdict = {\n",
    "        'add' : 5,\n",
    "        'sub' : 5,\n",
    "        'mul' : 4,\n",
    "        'div' : 4,\n",
    "        'inv' : 3,\n",
    "        'log' : 3,\n",
    "        'max' : 1,\n",
    "        'min' : 1,\n",
    "        'sqrt' : 4,\n",
    "        'exp' : 4,\n",
    "        'floor': 1\n",
    "}\n",
    "\n",
    "gp_fijando_operaciones = GP(M=500,\n",
    "\t\t\t\t\t\t\tmax_depth=15,\n",
    "\t\t\t\t\t\t\tprob_node_symb=0.5,\n",
    "\t\t\t\t\t\t\tfunc_list=list(funcdict.keys()),\n",
    "                                                        prob_func=list(funcdict.values()),\n",
    "\t\t\t\t\t\t\tdepth_penalty=0.005,\n",
    "\t\t\t\t\t\t\tconst_range=(0,2) )\n",
    "res = gp_fijando_operaciones.execute(x,y, generations=100)\n",
    "res"
   ]
  },
  {
   "cell_type": "markdown",
   "metadata": {},
   "source": [
    "**Mejor fitness con y sin penalización**"
   ]
  },
  {
   "cell_type": "code",
   "execution_count": 269,
   "metadata": {},
   "outputs": [
    {
     "name": "stdout",
     "output_type": "stream",
     "text": [
      "best fitness: \t2.1000058605481318\n",
      "best fitness penalizado:\t2.2365371338319933\n"
     ]
    }
   ],
   "source": [
    "print('best fitness: \\t' +  str(res['best_fitness'][-1]))\n",
    "print('best fitness penalizado:\\t' +  str(res['best_fitness_p'][-1]))"
   ]
  },
  {
   "cell_type": "code",
   "execution_count": 270,
   "metadata": {},
   "outputs": [],
   "source": [
    "#(res[\"best_trees\"][0]).pprint()"
   ]
  },
  {
   "cell_type": "markdown",
   "metadata": {},
   "source": [
    "**Ecuación**"
   ]
  },
  {
   "cell_type": "code",
   "execution_count": 271,
   "metadata": {},
   "outputs": [
    {
     "name": "stdout",
     "output_type": "stream",
     "text": [
      "div(add(x,1.1610855239848474),log(mul(add(x,sqrt(sqrt(mul(add(mul(sqrt(exp(div(max(1.8712556047563864,0.5032662995882091),mul(0.3662605722093166,0.5986965302310454)))),exp(div(max(1.925733575783541,0.5032662995882091),mul(0.3662605722093166,0.5986965302310454)))),sub(sub(div(max(1.925733575783541,max(exp(div(max(1.925733575783541,0.5032662995882091),mul(0.3662605722093166,0.5986965302310454))),0.5032662995882091)),mul(0.3662605722093166,0.5986965302310454)),add(x,x)),add(x,add(x,x)))),x)))),mul(add(sub(0.04069812756709856,add(x,1.1610855239848474)),x),mul(1.239641111997089,0.2432558829953433)))))\n"
     ]
    }
   ],
   "source": [
    "print(res['best_trees'][-1])"
   ]
  },
  {
   "cell_type": "markdown",
   "metadata": {},
   "source": [
    "**Gráfica árbol**"
   ]
  },
  {
   "cell_type": "code",
   "execution_count": 272,
   "metadata": {},
   "outputs": [
    {
     "name": "stdout",
     "output_type": "stream",
     "text": [
      "\n",
      "     ____________________div_______________________________________________________________________________________________________________________________________________________________________________________________________________________________________________________________________________________________________________________________________________________________________________________________________________________________________________________________________________________________________________________________________________________\n",
      "    /                                                                                                                                                                                                                                                                                                                                                                                                                                                                                                                                                                              \\\n",
      "  add________                                                                                                                                                                                                                                                                                                                                                                                                                                                                 _____________________________________________________________________________________________________log\n",
      " /           \\                                                                                                                                                                                                                                                                                                                                                                                                                                                               /\n",
      "x     1.1610855239848474          _________________________________________________________________________________________________________________________________________________________________________________________________________________________________________________________________________________________________________________________________________________________________________________________________________________________________________mul________________________________________________________\n",
      "                                 /                                                                                                                                                                                                                                                                                                                                                                                                                                                                                                    \\\n",
      "                               add____________________________________________________________________________________________________________________________________________________________________________________________________________________________________________________________________________________________________________________________________________________________________________________________________________________________________                                                             ___mul___________________\n",
      "                              /                                                                                                                                                                                                                                                                                                                                                                                                                                       \\                                                           /                         \\\n",
      "                             x                                                                                                                                                                                                                                                                                                                                                                                                                                      __sqrt                            __________________________add                 ________mul________\n",
      "                                                                                                                                                                                                                                                                                                                                                                                                                                                                   /                                 /                             \\               /                   \\\n",
      "                                                                                                                                                                                                                                                                                                                                                                                                                                                              ___sqrt                     _________sub___                           x     1.239641111997089     0.2432558829953433\n",
      "                                                                                                                                                                                                                                                                                                                                                                                                                                                             /                           /               \\\n",
      "                                                                                                                                                                                                                                      _____________________________________________________________________________________________________________________________________________________________________________________________________________________mul                 0.04069812756709856       add________\n",
      "                                                                                                                                                                                                                                     /                                                                                                                                                                                                                        \\                                         /           \\\n",
      "                                                                                                                                       ____________________________________________________________________________________________add___________________________________________________________________________________________________________________________________________________________________________________________________                      x                                       x     1.1610855239848474\n",
      "                                                                                                                                      /                                                                                                                                                                                                                                                                                                  \\\n",
      "                                                                                                                                  __mul________________________________________________________________________________________                                                                                                                                                                                                 _________sub___\n",
      "                                                                                                                                 /                                                                                             \\                                                                                                                                                                                               /               \\\n",
      "                                                                                                                              _sqrt                                                 ___________________________________________exp                                                                                                                                                ___________________________________________sub___            add___\n",
      "                                                                                                                             /                                                     /                                                                                                                                                                                             /                                                 \\          /      \\\n",
      "                                                                                ___________________________________________exp                               ____________________div____________________                                                    ___________________________________________________________________________________________________________________div____________________                             add       x       add\n",
      "                                                                               /                                                                            /                                           \\                                                  /                                                                                                                                          \\                           /   \\             /   \\\n",
      "                                                         ____________________div____________________                                              ________max________                          _________mul________                              ________max____________________________________________________________________________________________                                     _________mul________                x     x           x     x\n",
      "                                                        /                                           \\                                            /                   \\                        /                    \\                            /                                                                                                       \\                                   /                    \\\n",
      "                                             _________max________                          _________mul________                         1.925733575783541     0.5032662995882091     0.3662605722093166     0.5986965302310454         1.925733575783541                                                                                               _max________                0.3662605722093166     0.5986965302310454\n",
      "                                            /                    \\                        /                    \\                                                                                                                                                                                                                                      /            \\\n",
      "                                   1.8712556047563864     0.5032662995882091     0.3662605722093166     0.5986965302310454                                                                                                                                                                               ___________________________________________exp     0.5032662995882091\n",
      "                                                                                                                                                                                                                                                                                                        /\n",
      "                                                                                                                                                                                                                                                                                  ____________________div____________________\n",
      "                                                                                                                                                                                                                                                                                 /                                           \\\n",
      "                                                                                                                                                                                                                                                                       ________max________                          _________mul________\n",
      "                                                                                                                                                                                                                                                                      /                   \\                        /                    \\\n",
      "                                                                                                                                                                                                                                                             1.925733575783541     0.5032662995882091     0.3662605722093166     0.5986965302310454\n",
      "\n"
     ]
    }
   ],
   "source": [
    "(res[\"best_trees\"][-1]).pprint()"
   ]
  },
  {
   "cell_type": "markdown",
   "metadata": {},
   "source": [
    "**Gráficos**"
   ]
  },
  {
   "cell_type": "code",
   "execution_count": 273,
   "metadata": {},
   "outputs": [
    {
     "data": {
      "text/plain": [
       "<matplotlib.legend.Legend at 0x12f373b80>"
      ]
     },
     "execution_count": 273,
     "metadata": {},
     "output_type": "execute_result"
    },
    {
     "data": {
      "image/png": "[encoded data removed]",
      "text/plain": [
       "<Figure size 432x288 with 1 Axes>"
      ]
     },
     "metadata": {
      "needs_background": "light"
     },
     "output_type": "display_data"
    },
    {
     "data": {
      "image/png": "[encoded data removed]",
      "text/plain": [
       "<Figure size 432x288 with 1 Axes>"
      ]
     },
     "metadata": {
      "needs_background": "light"
     },
     "output_type": "display_data"
    },
    {
     "data": {
      "image/png": "[encoded data removed]",
      "text/plain": [
       "<Figure size 432x288 with 1 Axes>"
      ]
     },
     "metadata": {
      "needs_background": "light"
     },
     "output_type": "display_data"
    }
   ],
   "source": [
    "import matplotlib.pyplot as plt\n",
    "plt.figure(figsize=(6,4))\n",
    "plt.plot(res['best_fitness'], label='best_fitness')\n",
    "plt.plot(res['mean_fitness'], label='mean_fitness')\n",
    "plt.title(\"Evolución Fitness\")\n",
    "plt.ylabel('fitness')\n",
    "plt.xlabel('generaciones')\n",
    "plt.legend()\n",
    "\n",
    "plt.figure(figsize=(6,4))\n",
    "plt.plot(res['best_fitness'], label='best_fitness')\n",
    "plt.title(\"Evolución Fitness\")\n",
    "plt.ylabel('fitness')\n",
    "plt.xlabel('generaciones')\n",
    "plt.legend()\n",
    "\n",
    "plt.figure(figsize=(6,4))\n",
    "plt.plot(res['P_max_depth'], label='P_max_depth')\n",
    "plt.plot(res['P_mean_depth'], label='P_mean_depth')\n",
    "plt.title(\"Evolución profundidad de los árboles\")\n",
    "plt.ylabel('profundidad')\n",
    "plt.xlabel('generaciones')\n",
    "plt.legend()"
   ]
  }
 ],
 "metadata": {
  "kernelspec": {
   "display_name": "Python 3.10.5 64-bit",
   "language": "python",
   "name": "python3"
  },
  "language_info": {
   "codemirror_mode": {
    "name": "ipython",
    "version": 3
   },
   "file_extension": ".py",
   "mimetype": "text/x-python",
   "name": "python",
   "nbconvert_exporter": "python",
   "pygments_lexer": "ipython3",
   "version": "3.10.5"
  },
  "orig_nbformat": 4,
  "vscode": {
   "interpreter": {
    "hash": "7e1998ff7f8aa20ada591c520b972326324e5ea05489af9e422744c7c09f6dad"
   }
  }
 },
 "nbformat": 4,
 "nbformat_minor": 2
}
