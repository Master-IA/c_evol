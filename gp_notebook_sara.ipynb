{
 "cells": [
  {
   "cell_type": "code",
   "execution_count": 23,
   "metadata": {},
   "outputs": [],
   "source": [
    "import importlib\n",
    "import gptree\n",
    "importlib.reload(gptree)\n",
    "from gptree import *\n",
    "from funcs import *\n",
    "import numpy as np\n",
    "import random\n",
    "import gp\n",
    "importlib.reload(gp)\n",
    "from gp import *\n"
   ]
  },
  {
   "cell_type": "code",
   "execution_count": 24,
   "metadata": {},
   "outputs": [
    {
     "name": "stdout",
     "output_type": "stream",
     "text": [
      "(10900,)\n",
      "(10900,)\n"
     ]
    }
   ],
   "source": [
    "import pandas as pd\n",
    "csvfile = pd.read_csv('unknown_function.csv')\n",
    "x=csvfile['x'].values\n",
    "print(x.shape)\n",
    "y=csvfile['y'].values\n",
    "print(y.shape)\n",
    "\n",
    "\n",
    "funcdict = {\n",
    "        'add' : 5,\n",
    "        'sub' : 5,\n",
    "        'mul' : 4,\n",
    "        'div' : 4,\n",
    "        'inv' : 2,\n",
    "        'log' : 3,\n",
    "        'max' : 0,\n",
    "        'min' : 0,\n",
    "        'sqrt' : 1,\n",
    "        'exp' : 1,\n",
    "        'floor': 0\n",
    "}"
   ]
  },
  {
   "cell_type": "code",
   "execution_count": 25,
   "metadata": {},
   "outputs": [
    {
     "name": "stderr",
     "output_type": "stream",
     "text": [
      "/Users/sarabordonaba/Documentos/UNI/Master/Computación evolutiva/practica grupal/c_evol/funcs.py:39: RuntimeWarning: overflow encountered in exp\n",
      "  return np.where(np.abs(x1) > INV_THRESHOLD, np.exp(np.abs(x1)), 0)\n",
      "/Users/sarabordonaba/Documentos/UNI/Master/Computación evolutiva/practica grupal/c_evol/funcs.py:20: RuntimeWarning: overflow encountered in multiply\n",
      "  return self.operator(*args)\n",
      "/Users/sarabordonaba/Documentos/UNI/Master/Computación evolutiva/practica grupal/c_evol/funcs.py:35: RuntimeWarning: overflow encountered in divide\n",
      "  return np.where(np.abs(x2) > INV_THRESHOLD, x1/x2, x1)\n",
      "/Users/sarabordonaba/Documentos/UNI/Master/Computación evolutiva/practica grupal/c_evol/funcs.py:20: RuntimeWarning: invalid value encountered in subtract\n",
      "  return self.operator(*args)\n",
      "/Users/sarabordonaba/Documentos/UNI/Master/Computación evolutiva/practica grupal/c_evol/gp.py:11: RuntimeWarning: overflow encountered in power\n",
      "  return np.average(np.power(y-y_pred,2), weights=w)\n",
      "Progress:  91%|█████████ | 91/100 [00:38<00:04,  1.86it/s]/Users/sarabordonaba/Documentos/UNI/Master/Computación evolutiva/practica grupal/c_evol/funcs.py:25: RuntimeWarning: overflow encountered in divide\n",
      "  return np.where(np.abs(x1) > INV_THRESHOLD, 1/x1, x1)\n",
      "Progress:  94%|█████████▍| 94/100 [00:40<00:03,  1.66it/s]/Users/sarabordonaba/Documentos/UNI/Master/Computación evolutiva/practica grupal/c_evol/funcs.py:20: RuntimeWarning: invalid value encountered in add\n",
      "  return self.operator(*args)\n",
      "Progress: 100%|██████████| 100/100 [00:43<00:00,  2.28it/s]\n"
     ]
    },
    {
     "data": {
      "text/plain": [
       "{'total_generations': 100,\n",
       " 'best_trees': array([Node(div), Node(div), Node(min), Node(min), Node(min), Node(min),\n",
       "        Node(min), Node(min), Node(min), Node(min), Node(min), Node(min),\n",
       "        Node(min), Node(min), Node(min), Node(min), Node(min), Node(min),\n",
       "        Node(min), Node(min), Node(min), Node(min), Node(min), Node(min),\n",
       "        Node(min), Node(min), Node(min), Node(min), Node(min), Node(min),\n",
       "        Node(min), Node(min), Node(min), Node(min), Node(min), Node(min),\n",
       "        Node(min), Node(min), Node(min), Node(min), Node(min), Node(min),\n",
       "        Node(min), Node(min), Node(min), Node(min), Node(min), Node(min),\n",
       "        Node(min), Node(min), Node(min), Node(min), Node(min), Node(min),\n",
       "        Node(min), Node(min), Node(min), Node(min), Node(min), Node(min),\n",
       "        Node(min), Node(min), Node(min), Node(min), Node(min), Node(min),\n",
       "        Node(min), Node(min), Node(min), Node(min), Node(min), Node(min),\n",
       "        Node(min), Node(min), Node(min), Node(min), Node(min), Node(min),\n",
       "        Node(min), Node(min), Node(min), Node(min), Node(min), Node(min),\n",
       "        Node(min), Node(min), Node(min), Node(min), Node(min), Node(min),\n",
       "        Node(min), Node(min), Node(min), Node(min), Node(min), Node(min),\n",
       "        Node(min), Node(min), Node(min), Node(min), Node(min)],\n",
       "       dtype=object),\n",
       " 'best_fitness': array([         nan, 188.34486262, 143.45626227, 143.45626227,\n",
       "        143.43772923, 143.43772923,   7.88442058,   7.88442058,\n",
       "          7.53220006,   7.53220006,   7.42107949,   6.10853399,\n",
       "          6.10853399,   4.223703  ,   4.223703  ,   4.21239786,\n",
       "          3.21963892,   3.21963892,   2.88367998,   2.88367998,\n",
       "          2.82200854,   2.82200854,   2.6844781 ,   2.65052775,\n",
       "          2.64714514,   2.63639393,   2.63524175,   2.63639393,\n",
       "          2.64182907,   2.63500012,   2.53687357,   2.53687357,\n",
       "          2.18519395,   2.18519395,   2.18413824,   2.18413824,\n",
       "          2.18413681,   2.18413751,   2.18413604,   2.18413604,\n",
       "          2.1841373 ,   2.18412817,   2.18413604,   2.18406838,\n",
       "          2.18406838,   2.18413745,   2.18413942,   2.18413682,\n",
       "          2.18413733,   2.18413657,   2.18317821,   2.18317821,\n",
       "          2.18317821,   2.18317514,   2.18317514,   2.18317514,\n",
       "          2.18243841,   2.18317514,   2.18317396,   2.184141  ,\n",
       "          2.18414021,   2.18318486,   2.18318486,   2.18318486,\n",
       "          2.18318486,   2.18318486,   2.18318486,   2.18318486,\n",
       "          2.18318486,   2.18318486,   2.18318486,   2.18317813,\n",
       "          2.18316871,   2.18316871,   2.18316871,   2.18316871,\n",
       "          2.18316871,   2.18316685,   2.18316685,   2.1831651 ,\n",
       "          2.18316385,   2.18316385,   2.18316385,   2.18316385,\n",
       "          2.18318591,   2.18318591,   2.1831725 ,   2.1830019 ,\n",
       "          2.1831725 ,   2.1831725 ,   2.18316871,   2.18300497,\n",
       "          2.18316871,   2.18300198,   2.18316779,   2.18205231,\n",
       "          2.17437863,   2.18316678,   2.18299727,   2.18316585,\n",
       "          2.18313926]),\n",
       " 'mean_fitness': array([           nan,            inf,            inf,            inf,\n",
       "        3.47671822e+06, 8.50661246e+06, 2.18331397e+03, 2.93445074e+03,\n",
       "        1.32373612e+04, 3.11821208e+03, 2.53099942e+03, 2.37637167e+03,\n",
       "        2.27672209e+03, 2.55245725e+03, 2.00190308e+03, 2.28789057e+03,\n",
       "        1.88588646e+03, 2.54653167e+03, 2.39654101e+03, 2.17974392e+03,\n",
       "        2.13442251e+03, 1.21547986e+03, 7.99890760e+02, 7.19728750e+02,\n",
       "        1.02120842e+03, 9.97921614e+02, 6.34825690e+02, 6.83792462e+02,\n",
       "        8.33105840e+02, 6.22745357e+02, 1.06595550e+03, 7.76669453e+02,\n",
       "        1.00956365e+03, 8.26906027e+02, 9.73513246e+02, 4.78737148e+02,\n",
       "        5.80983755e+02, 6.12982901e+02, 5.28145569e+02, 4.91709585e+02,\n",
       "        8.13071162e+02, 7.76667555e+02, 7.91902078e+02, 6.51593374e+02,\n",
       "        8.27653874e+02, 6.55148952e+02, 9.20725088e+02, 7.56572202e+02,\n",
       "        1.03707224e+03, 1.02293378e+03, 8.82611571e+02, 7.95288209e+02,\n",
       "        8.45889856e+02, 6.16681023e+02, 1.23344392e+20, 5.33296671e+02,\n",
       "        1.67230973e+15, 1.06876884e+03, 1.65847696e+14, 9.80639961e+02,\n",
       "        8.01259351e+02, 7.82337928e+02, 7.85151348e+02, 7.17183639e+02,\n",
       "        6.89031169e+02, 1.11693221e+03, 7.95246276e+02, 9.82420468e+02,\n",
       "        8.68309542e+02, 5.69224267e+02, 6.69955629e+02, 9.39672933e+02,\n",
       "        7.71829783e+02, 7.98973074e+02, 8.37136236e+02, 9.19847588e+02,\n",
       "        8.85654191e+02, 6.66444121e+02, 6.80167804e+02, 5.22664519e+02,\n",
       "        5.98402746e+02, 1.12776513e+03, 1.23344392e+20, 5.74660063e+02,\n",
       "                   inf, 5.13598192e+02, 3.34461947e+15, 1.67230973e+15,\n",
       "        5.91618478e+19, 4.83336637e+02, 3.20877550e+02, 3.41627757e+02,\n",
       "        3.70912475e+02, 2.58554318e+02, 2.90729170e+02, 5.91405835e+02,\n",
       "        1.83815866e+15, 1.67230973e+15, 5.80709994e+02, 1.67230973e+15,\n",
       "        4.19172175e+02]),\n",
       " 'best_fitness_p': array([         nan, 190.22831124, 149.91179408, 149.91179408,\n",
       "        148.45804975, 148.45804975,   8.2392195 ,   8.2392195 ,\n",
       "          7.83348807,   7.83348807,   7.75502807,   6.41396069,\n",
       "          6.41396069,   4.39265112,   4.39265112,   4.39265112,\n",
       "          3.39671906,   3.39671906,   3.04228238,   3.04228238,\n",
       "          2.96311595,   2.96311595,   2.87239156,   2.81035424,\n",
       "          2.81035424,   2.78712967,   2.78712967,   2.78712967,\n",
       "          2.78202908,   2.77992513,   2.67640162,   2.67640162,\n",
       "          2.32723156,   2.32723156,   2.32610723,   2.32610723,\n",
       "          2.31630559,   2.31630559,   2.31518576,   2.31518576,\n",
       "          2.3045301 ,   2.3045301 ,   2.30426724,   2.30426724,\n",
       "          2.30426709,   2.30426709,   2.30426709,   2.29361472,\n",
       "          2.29361472,   2.29361472,   2.29361472,   2.29361472,\n",
       "          2.29361472,   2.29335569,   2.29335569,   2.29335492,\n",
       "          2.29335492,   2.29335492,   2.29334916,   2.29334916,\n",
       "          2.29334723,   2.2923441 ,   2.2923441 ,   2.28269705,\n",
       "          2.28269705,   2.28269705,   2.28269705,   2.28269705,\n",
       "          2.28269705,   2.2817148 ,   2.2817148 ,   2.2817148 ,\n",
       "          2.2817148 ,   2.2817148 ,   2.2817148 ,   2.2817148 ,\n",
       "          2.2817148 ,   2.2817148 ,   2.2817148 ,   2.2817148 ,\n",
       "          2.2817148 ,   2.28148591,   2.28148591,   2.28148591,\n",
       "          2.28142928,   2.28142928,   2.28141527,   2.28141527,\n",
       "          2.28141527,   2.28141527,   2.2814113 ,   2.2814113 ,\n",
       "          2.2814113 ,   2.28141034,   2.28141034,   2.28141018,\n",
       "          2.28140929,   2.28140929,   2.28140929,   2.28140929,\n",
       "          2.28140859]),\n",
       " 'mean_fitness_p': array([           nan,            inf,            inf,            inf,\n",
       "        3.53020493e+06, 8.62461518e+06, 2.25536094e+03, 3.03000083e+03,\n",
       "        1.36976302e+04, 3.22393538e+03, 2.62627054e+03, 2.45850494e+03,\n",
       "        2.35816710e+03, 2.64398020e+03, 2.06448980e+03, 2.38408693e+03,\n",
       "        1.97490569e+03, 2.64934790e+03, 2.48361484e+03, 2.25593574e+03,\n",
       "        2.22091542e+03, 1.26336621e+03, 8.37491382e+02, 7.51923366e+02,\n",
       "        1.05682220e+03, 1.03341299e+03, 6.61186893e+02, 7.08898422e+02,\n",
       "        8.61901556e+02, 6.46092987e+02, 1.10337325e+03, 8.06508329e+02,\n",
       "        1.04509112e+03, 8.56677539e+02, 1.00205399e+03, 4.97165079e+02,\n",
       "        6.00083850e+02, 6.33079216e+02, 5.47259888e+02, 5.13133472e+02,\n",
       "        8.40108211e+02, 8.03650307e+02, 8.16504357e+02, 6.77344896e+02,\n",
       "        8.57487372e+02, 6.79740283e+02, 9.51094513e+02, 7.82963457e+02,\n",
       "        1.06906037e+03, 1.05797098e+03, 9.08695446e+02, 8.23334909e+02,\n",
       "        8.75299631e+02, 6.39490525e+02, 1.30128333e+20, 5.55552240e+02,\n",
       "        1.76428677e+15, 1.10202092e+03, 1.74140081e+14, 1.01220014e+03,\n",
       "        8.31921539e+02, 8.08302473e+02, 8.10650937e+02, 7.42618619e+02,\n",
       "        7.12940962e+02, 1.14911680e+03, 8.20565862e+02, 1.01407270e+03,\n",
       "        8.95800171e+02, 5.89332294e+02, 6.92670687e+02, 9.68394136e+02,\n",
       "        7.95801839e+02, 8.25313565e+02, 8.63216591e+02, 9.45562740e+02,\n",
       "        9.13004440e+02, 6.88946822e+02, 7.03437383e+02, 5.43568836e+02,\n",
       "        6.21823969e+02, 1.16239489e+03, 1.29511611e+20, 5.97121087e+02,\n",
       "                   inf, 5.34760820e+02, 3.49512734e+15, 1.74756367e+15,\n",
       "        6.18241310e+19, 5.03150376e+02, 3.34779387e+02, 3.56425672e+02,\n",
       "        3.86608091e+02, 2.70118613e+02, 3.03690301e+02, 6.15332480e+02,\n",
       "        1.92087580e+15, 1.73920212e+15, 6.06726319e+02, 1.74756367e+15,\n",
       "        4.37541796e+02]),\n",
       " 'P_max_depth': array([23,  9, 15, 12, 17, 19, 17, 19, 17, 21, 19, 23, 17, 16, 15, 19, 19,\n",
       "        18, 17, 16, 19, 24, 24, 24, 23, 28, 24, 24, 21, 21, 20, 20, 19, 19,\n",
       "        23, 24, 24, 24, 24, 24, 30, 22, 22, 22, 21, 20, 21, 27, 21, 20, 23,\n",
       "        21, 19, 21, 21, 21, 21, 19, 19, 19, 18, 21, 19, 18, 19, 19, 19, 18,\n",
       "        19, 18, 19, 19, 19, 19, 19, 18, 19, 19, 18, 19, 19, 19, 29, 17, 18,\n",
       "        17, 17, 20, 17, 17, 16, 17, 16, 15, 17, 22, 16, 17, 17, 16, 17]),\n",
       " 'P_mean_depth': array([ 4.086,  3.074,  3.158,  3.42 ,  7.294,  4.624,  8.43 ,  8.926,\n",
       "         8.586,  9.018,  9.73 , 10.106,  8.396,  8.342,  8.216,  9.158,\n",
       "        10.31 ,  9.224,  8.572,  8.59 , 10.426, 11.498, 12.998, 13.096,\n",
       "        11.794, 12.12 , 13.782, 12.294, 11.064, 11.234, 10.922, 11.21 ,\n",
       "        10.73 , 10.602, 11.976, 12.486, 13.182, 13.22 , 12.794, 12.762,\n",
       "        12.138, 12.02 , 11.944, 12.058, 11.586, 11.282, 11.318, 11.272,\n",
       "        11.168, 10.992, 11.162, 11.196, 11.102, 11.308, 11.198, 11.174,\n",
       "        11.072, 10.584, 10.722, 10.302, 10.29 , 10.326, 10.296, 10.266,\n",
       "        10.236, 10.074, 10.234, 10.264, 10.312, 10.266, 10.252, 10.266,\n",
       "        10.28 , 10.368, 10.186, 10.366, 10.26 , 10.164, 10.368, 10.41 ,\n",
       "        10.316,  9.898,  9.966,  9.606,  9.41 ,  9.346,  9.394,  9.444,\n",
       "         9.55 ,  9.386,  9.33 ,  9.332,  9.324,  9.424,  9.386,  9.446,\n",
       "         9.466,  9.334,  9.494,  9.438,  9.464])}"
      ]
     },
     "execution_count": 25,
     "metadata": {},
     "output_type": "execute_result"
    }
   ],
   "source": [
    "gp = GP(M=500,\n",
    "        max_depth=50,\n",
    "        prob_node_symb=0.5,\n",
    "        func_list=list(funcdict.keys()),\n",
    "        depth_penalty=0.005,\n",
    "        elitism=0.1,\n",
    "        const_range=(0,2))\n",
    "\n",
    "res = gp.execute(x,y, generations=100)\n",
    "res"
   ]
  },
  {
   "cell_type": "code",
   "execution_count": 26,
   "metadata": {},
   "outputs": [
    {
     "name": "stdout",
     "output_type": "stream",
     "text": [
      "min(div(x,add(log(add(log(mul(mul(mul(x,x),max(x,x)),max(x,add(add(log(x),0.15534863358519768),mul(log(x),max(0.7744289706134182,mul(0.4796476516664596,max(0.7744289706134182,x)))))))),add(add(log(x),sqrt(0.7447875824848782)),mul(0.4750987784666991,max(1.6950371811925498,mul(0.4796476516664596,x)))))),sqrt(0.15534863358519768))),add(add(log(x),0.15534863358519768),mul(log(x),max(0.7744289706134182,mul(0.4796476516664596,max(0.7744289706134182,x))))))\n"
     ]
    },
    {
     "data": {
      "text/plain": [
       "Text(0, 0.5, 'Depth')"
      ]
     },
     "execution_count": 26,
     "metadata": {},
     "output_type": "execute_result"
    },
    {
     "data": {
      "image/png": "[encoded data removed]",
      "text/plain": [
       "<Figure size 432x288 with 1 Axes>"
      ]
     },
     "metadata": {
      "needs_background": "light"
     },
     "output_type": "display_data"
    },
    {
     "data": {
      "image/png": "[encoded data removed]",
      "text/plain": [
       "<Figure size 432x288 with 1 Axes>"
      ]
     },
     "metadata": {
      "needs_background": "light"
     },
     "output_type": "display_data"
    },
    {
     "data": {
      "image/png": "[encoded data removed]",
      "text/plain": [
       "<Figure size 432x288 with 1 Axes>"
      ]
     },
     "metadata": {
      "needs_background": "light"
     },
     "output_type": "display_data"
    }
   ],
   "source": [
    "import matplotlib.pyplot as plt\n",
    "plt.figure(figsize=(6,4))\n",
    "plt.plot(res['best_fitness'], label='best_fitness')\n",
    "plt.plot(res['mean_fitness'], label='mean_fitness')\n",
    "#plt.ylim(0,res['mean_fitness'][5])\n",
    "plt.legend()\n",
    "plt.xlabel('Generation')\n",
    "plt.ylabel('Fitness')\n",
    "\n",
    "\n",
    "plt.figure(figsize=(6,4))\n",
    "plt.plot(res['best_fitness'], label='best_fitness')\n",
    "plt.legend()\n",
    "plt.xlabel('Generation')\n",
    "plt.ylabel('Fitness')\n",
    "\n",
    "\n",
    "\n",
    "plt.figure(figsize=(6,4))\n",
    "plt.plot(res['P_max_depth'], label='P_max_depth')\n",
    "plt.plot(res['P_mean_depth'], label='P_mean_depth')\n",
    "plt.legend()\n",
    "print(res['best_trees'][-1])\n",
    "plt.xlabel('Generation')\n",
    "plt.ylabel('Depth')"
   ]
  },
  {
   "cell_type": "code",
   "execution_count": 27,
   "metadata": {},
   "outputs": [
    {
     "name": "stdout",
     "output_type": "stream",
     "text": [
      "best fitness: \t2.183139257786464\n",
      "best fitness p:\t2.2814085909956754\n"
     ]
    }
   ],
   "source": [
    "print('best fitness: \\t' +  str(res['best_fitness'][-1]))\n",
    "print('best fitness p:\\t' +  str(res['best_fitness_p'][-1]))"
   ]
  },
  {
   "cell_type": "code",
   "execution_count": 28,
   "metadata": {},
   "outputs": [
    {
     "name": "stdout",
     "output_type": "stream",
     "text": [
      "\n",
      "     ________________________________________________________________________________________________________________________________________________________________________________________________________________________________________________________________________________________________________min_______________________________\n",
      "    /                                                                                                                                                                                                                                                                                                                                          \\\n",
      "  div___________________________________________________________________________________________________________________________________________________________________________________________________________________________________________________________________________                                          _____________________add_______\n",
      " /                                                                                                                                                                                                                                                                              \\                                        /                               \\\n",
      "x                                                                                                                                                                                                                                                                              _add_____________________              _add_________                     _mul____________________\n",
      "                                                                                                                                                                                                                                                                              /                         \\            /             \\                   /                        \\\n",
      "                                                                                                                                                              ______________________________________________________________________________________________________________log                _________sqrt       log     0.15534863358519768       log               _________max____________________\n",
      "                                                                                                                                                             /                                                                                                                                /                   /                                 /                 /                                \\\n",
      "                                                                                                                                                          _add___________________________________                                                                                   0.15534863358519768          x                                 x         0.7744289706134182               _________mul____________________\n",
      "                                                                                                                                                         /                                       \\                                                                                                                                                                                           /                                \\\n",
      "                             __________________________________________________________________________________________________________________________log              _________________________add____________________                                                                                                                                                            0.4796476516664596               _________max\n",
      "                            /                                                                                                                                          /                                                \\                                                                                                                                                                                           /            \\\n",
      "                 _________mul___                                                                                                                                    _add____________________                   _________mul____________________                                                                                                                                                            0.7744289706134182     x\n",
      "                /               \\                                                                                                                                  /                        \\                 /                                \\\n",
      "           ___mul___            max_______________________________                                                                                               log               _________sqrt     0.4750987784666991               _________max____________________\n",
      "          /         \\          /                                  \\                                                                                             /                 /                                                  /                                \\\n",
      "        mul         max       x              _____________________add_______                                                                                   x         0.7447875824848782                                 1.6950371811925498               _________mul\n",
      "       /   \\       /   \\                    /                               \\                                                                                                                                                                               /            \\\n",
      "      x     x     x     x                _add_________                     _mul____________________                                                                                                                                                0.4796476516664596     x\n",
      "                                        /             \\                   /                        \\\n",
      "                                      log     0.15534863358519768       log               _________max____________________\n",
      "                                     /                                 /                 /                                \\\n",
      "                                    x                                 x         0.7744289706134182               _________mul____________________\n",
      "                                                                                                                /                                \\\n",
      "                                                                                                       0.4796476516664596               _________max\n",
      "                                                                                                                                       /            \\\n",
      "                                                                                                                              0.7744289706134182     x\n",
      "\n"
     ]
    }
   ],
   "source": [
    "res['best_trees'][-1].pprint()"
   ]
  },
  {
   "cell_type": "code",
   "execution_count": 29,
   "metadata": {},
   "outputs": [
    {
     "data": {
      "image/svg+xml": "min(div(x,add(log(add(log(mul(mul(mul(x,x),max(x,x)),max(x,add(add(log(x),0.15534863358519768),mul(log(x),max(0.7744289706134182,mul(0.4796476516664596,max(0.7744289706134182,x)))))))),add(add(log(x),sqrt(0.7447875824848782)),mul(0.4750987784666991,max(1.6950371811925498,mul(0.4796476516664596,x)))))),sqrt(0.15534863358519768))),add(add(log(x),0.15534863358519768),mul(log(x),max(0.7744289706134182,mul(0.4796476516664596,max(0.7744289706134182,x))))))",
      "text/plain": [
       "Node(min)"
      ]
     },
     "execution_count": 29,
     "metadata": {},
     "output_type": "execute_result"
    }
   ],
   "source": [
    "res['best_trees'][-1]"
   ]
  },
  {
   "cell_type": "code",
   "execution_count": null,
   "metadata": {},
   "outputs": [],
   "source": []
  }
 ],
 "metadata": {
  "kernelspec": {
   "display_name": "Python 3.10.5 64-bit",
   "language": "python",
   "name": "python3"
  },
  "language_info": {
   "codemirror_mode": {
    "name": "ipython",
    "version": 3
   },
   "file_extension": ".py",
   "mimetype": "text/x-python",
   "name": "python",
   "nbconvert_exporter": "python",
   "pygments_lexer": "ipython3",
   "version": "3.10.5"
  },
  "vscode": {
   "interpreter": {
    "hash": "7e1998ff7f8aa20ada591c520b972326324e5ea05489af9e422744c7c09f6dad"
   }
  }
 },
 "nbformat": 4,
 "nbformat_minor": 2
}
