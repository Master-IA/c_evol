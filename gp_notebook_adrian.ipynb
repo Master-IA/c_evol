{
 "cells": [
  {
   "cell_type": "code",
   "execution_count": 2,
   "metadata": {},
   "outputs": [],
   "source": [
    "import importlib\n",
    "import gptree\n",
    "importlib.reload(gptree)\n",
    "from gptree import *\n",
    "from funcs import *\n",
    "import numpy as np\n",
    "import random\n",
    "import gp\n",
    "importlib.reload(gp)\n",
    "from gp import *\n"
   ]
  },
  {
   "cell_type": "code",
   "execution_count": 3,
   "metadata": {},
   "outputs": [
    {
     "name": "stdout",
     "output_type": "stream",
     "text": [
      "(10900,)\n",
      "(10900,)\n"
     ]
    },
    {
     "name": "stderr",
     "output_type": "stream",
     "text": [
      "Progress:   0%|          | 0/50 [00:00<?, ?it/s]"
     ]
    },
    {
     "ename": "",
     "evalue": "",
     "output_type": "error",
     "traceback": [
      "\u001b[1;31mCanceled future for execute_request message before replies were done"
     ]
    },
    {
     "ename": "",
     "evalue": "",
     "output_type": "error",
     "traceback": [
      "\u001b[1;31mEl Kernel se bloqueó al ejecutar código en la celda actual o en una celda anterior. Revise el código de las celdas para identificar una posible causa del error. Haga clic <a href='https://aka.ms/vscodeJupyterKernelCrash'>aquí</a> para obtener más información. Vea el [registro] de Jupyter (command:jupyter.viewOutput) para obtener más detalles."
     ]
    }
   ],
   "source": [
    "import pandas as pd\n",
    "csvfile = pd.read_csv('unknown_function.csv')\n",
    "x=csvfile['x'].values\n",
    "print(x.shape)\n",
    "y=csvfile['y'].values\n",
    "print(y.shape)\n",
    "\n",
    "funcdict = {\n",
    "\t'add' : 5,\n",
    "\t'sub' : 5,\n",
    "\t'mul' : 4,\n",
    "\t'div' : 3,\n",
    "\t'inv' : 0,\n",
    "\t'log' : 3,\n",
    "\t'max' : 0,\n",
    "\t'min' : 0,\n",
    "\t'sqrt' : 2\n",
    "}\n",
    "gprog = GP(M=1000, prob_node_symb=0.3, func_list=list(funcdict.keys()), prob_func=list(funcdict.values()),\n",
    " max_depth=100, depth_penalty=0.007, calc_weights=False)\n",
    "res = gprog.execute(x,y, generations=50)\n",
    "res"
   ]
  },
  {
   "cell_type": "code",
   "execution_count": null,
   "metadata": {},
   "outputs": [
    {
     "name": "stdout",
     "output_type": "stream",
     "text": [
      "2.77583082852641\n",
      "div(add(x,mul(sub(0.6054572399640936,0.190209251233749),sub(log(mul(mul(add(-0.8872099618424261,x),x),sub(x,mul(x,0.8976031910505178)))),mul(add(log(mul(x,x)),sub(x,mul(x,0.8976031910505178))),-0.6018172571411968)))),log(mul(sub(0.6054572399640936,0.17894272120203936),add(x,mul(sub(0.6054572399640936,0.17894272120203936),sub(-0.2262370983911528,mul(sub(x,mul(x,0.8976031910505178)),-0.6018172571411968)))))))\n",
      "(0, 1.025589311280184*x + 0.2499034056110946*log(x**2) + 0.4152479887303446*log(x**3 - 0.8872099618424261*x**2) - 0.9463085291784704)\n"
     ]
    }
   ],
   "source": [
    "best_tree = res['best_trees'][-1]\n",
    "y_pred = best_tree.calculate_recursive(x)\n",
    "print(rmse(y,y_pred))\n",
    "print(best_tree)\n",
    "print(best_tree.sympify_str())\n",
    "#best_tree.sympify_str()"
   ]
  },
  {
   "cell_type": "code",
   "execution_count": 32,
   "metadata": {},
   "outputs": [
    {
     "name": "stdout",
     "output_type": "stream",
     "text": [
      "2.77583082852641\n",
      "div(add(x,mul(sub(0.6054572399640936,0.190209251233749),sub(log(mul(mul(add(-0.8872099618424261,x),x),sub(x,mul(x,0.8976031910505178)))),mul(add(log(mul(x,x)),sub(x,mul(x,0.8976031910505178))),-0.6018172571411968)))),log(mul(sub(0.6054572399640936,0.17894272120203936),add(x,mul(sub(0.6054572399640936,0.17894272120203936),sub(-0.2262370983911528,mul(sub(x,mul(x,0.8976031910505178)),-0.6018172571411968)))))))\n",
      "(0, 1.025589311280184*x + 0.2499034056110946*log(x**2) + 0.4152479887303446*log(x**3 - 0.8872099618424261*x**2) - 0.9463085291784704)\n"
     ]
    }
   ],
   "source": [
    "# NO TOCAR\n",
    "\n",
    "best_tree = res['best_trees'][-1]\n",
    "y_pred = best_tree.calculate_recursive(x)\n",
    "print(rmse(y,y_pred))\n",
    "print(best_tree)\n",
    "print(best_tree.sympify_str())\n",
    "#best_tree.sympify_str()"
   ]
  },
  {
   "cell_type": "code",
   "execution_count": 198,
   "metadata": {},
   "outputs": [
    {
     "data": {
      "text/latex": [
       "$\\displaystyle 3 x + \\operatorname{inv}{\\left(-1 \\right)}$"
      ],
      "text/plain": [
       "3*x + inv(-1)"
      ]
     },
     "execution_count": 198,
     "metadata": {},
     "output_type": "execute_result"
    }
   ],
   "source": [
    "nroot = GPTree('add', \n",
    "    left=GPTree('mul',\n",
    "        left=GPTree(3),\n",
    "        right=GPTree('x')), \n",
    "    #right=GPTree('log', \n",
    "    right=GPTree('inv', \n",
    "        left=GPTree(-1)))\n",
    "nroot2 = GPTree('mul',\n",
    "        left=GPTree(3),\n",
    "        right=GPTree('x')) \n",
    "nroot.sympify_str()\n"
   ]
  },
  {
   "cell_type": "code",
   "execution_count": 32,
   "metadata": {},
   "outputs": [],
   "source": [
    "if np.shape(nroot3.calculate_recursive(x)):\n",
    "    print(\"hey\")"
   ]
  },
  {
   "cell_type": "code",
   "execution_count": 20,
   "metadata": {},
   "outputs": [
    {
     "name": "stdout",
     "output_type": "stream",
     "text": [
      "2.3593997955322267e-05\n",
      "2.4235916137695312e-05\n"
     ]
    }
   ],
   "source": [
    "\n",
    "\n",
    "import time\n",
    "P = [nroot]*100\n",
    "N = 10000\n",
    "time_2_start = time.time()\n",
    "for i in range(N):\n",
    "    res = nroot.calculate_recursive(x)\n",
    "time_2_end = time.time()\n",
    "print((time_2_end-time_2_start)/N)\n",
    "\n",
    "time_3_start = time.time()\n",
    "for i in range(N):\n",
    "    res = nroot.calculate_recursive(x)\n",
    "    if res.shape==(): res = np.resize(res,len(x))\n",
    "time_3_end = time.time()\n",
    "print((time_3_end-time_3_start)/N)"
   ]
  },
  {
   "cell_type": "code",
   "execution_count": 16,
   "metadata": {},
   "outputs": [
    {
     "name": "stdout",
     "output_type": "stream",
     "text": [
      "(1,)\n"
     ]
    },
    {
     "ename": "AxisError",
     "evalue": "axis 1 is out of bounds for array of dimension 1",
     "output_type": "error",
     "traceback": [
      "\u001b[1;31m---------------------------------------------------------------------------\u001b[0m",
      "\u001b[1;31mAxisError\u001b[0m                                 Traceback (most recent call last)",
      "\u001b[1;32me:\\Pioren\\Downloads\\MasterIA\\SC1\\CEvol\\c_evol\\gp_notebook.ipynb Celda 5\u001b[0m in \u001b[0;36m<module>\u001b[1;34m\u001b[0m\n\u001b[0;32m      <a href='vscode-notebook-cell:/e%3A/Pioren/Downloads/MasterIA/SC1/CEvol/c_evol/gp_notebook.ipynb#X25sZmlsZQ%3D%3D?line=3'>4</a>\u001b[0m res \u001b[39m=\u001b[39m np\u001b[39m.\u001b[39masarray([tree\u001b[39m.\u001b[39mcalculate_recursive(x) \u001b[39mfor\u001b[39;00m tree \u001b[39min\u001b[39;00m P], dtype\u001b[39m=\u001b[39m\u001b[39mtype\u001b[39m(x))\n\u001b[0;32m      <a href='vscode-notebook-cell:/e%3A/Pioren/Downloads/MasterIA/SC1/CEvol/c_evol/gp_notebook.ipynb#X25sZmlsZQ%3D%3D?line=4'>5</a>\u001b[0m \u001b[39mprint\u001b[39m(res\u001b[39m.\u001b[39mshape)\n\u001b[1;32m----> <a href='vscode-notebook-cell:/e%3A/Pioren/Downloads/MasterIA/SC1/CEvol/c_evol/gp_notebook.ipynb#X25sZmlsZQ%3D%3D?line=5'>6</a>\u001b[0m np\u001b[39m.\u001b[39;49mapply_along_axis(rmse,\u001b[39m1\u001b[39;49m, res, y)\u001b[39m*\u001b[39m(\u001b[39m1\u001b[39m\u001b[39m+\u001b[39mnp\u001b[39m.\u001b[39mvectorize(GPTree\u001b[39m.\u001b[39mdepth)(P)\u001b[39m*\u001b[39m\u001b[39m0.01\u001b[39m)\n\u001b[0;32m      <a href='vscode-notebook-cell:/e%3A/Pioren/Downloads/MasterIA/SC1/CEvol/c_evol/gp_notebook.ipynb#X25sZmlsZQ%3D%3D?line=6'>7</a>\u001b[0m [rmse(res[:,i],y[i]) \u001b[39mfor\u001b[39;00m i \u001b[39min\u001b[39;00m \u001b[39mrange\u001b[39m(\u001b[39mlen\u001b[39m(y))]\n",
      "File \u001b[1;32m<__array_function__ internals>:180\u001b[0m, in \u001b[0;36mapply_along_axis\u001b[1;34m(*args, **kwargs)\u001b[0m\n",
      "File \u001b[1;32m~\\AppData\\Local\\Packages\\PythonSoftwareFoundation.Python.3.10_qbz5n2kfra8p0\\LocalCache\\local-packages\\Python310\\site-packages\\numpy\\lib\\shape_base.py:361\u001b[0m, in \u001b[0;36mapply_along_axis\u001b[1;34m(func1d, axis, arr, *args, **kwargs)\u001b[0m\n\u001b[0;32m    359\u001b[0m arr \u001b[39m=\u001b[39m asanyarray(arr)\n\u001b[0;32m    360\u001b[0m nd \u001b[39m=\u001b[39m arr\u001b[39m.\u001b[39mndim\n\u001b[1;32m--> 361\u001b[0m axis \u001b[39m=\u001b[39m normalize_axis_index(axis, nd)\n\u001b[0;32m    363\u001b[0m \u001b[39m# arr, with the iteration axis at the end\u001b[39;00m\n\u001b[0;32m    364\u001b[0m in_dims \u001b[39m=\u001b[39m \u001b[39mlist\u001b[39m(\u001b[39mrange\u001b[39m(nd))\n",
      "\u001b[1;31mAxisError\u001b[0m: axis 1 is out of bounds for array of dimension 1"
     ]
    }
   ],
   "source": [
    "#P = np.fromiter([nroot, nroot2], dtype=GPTree)\n",
    "nroot3 = GPTree(3)\n",
    "P = np.fromiter([nroot3], dtype=GPTree)\n",
    "res = np.asarray([tree.calculate_recursive(x) for tree in P], dtype=type(x))\n",
    "print(res.shape)\n",
    "np.apply_along_axis(rmse,1, res, y)*(1+np.vectorize(GPTree.depth)(P)*0.01)\n",
    "[rmse(res[:,i],y[i]) for i in range(len(y))]\n"
   ]
  },
  {
   "cell_type": "code",
   "execution_count": 8,
   "metadata": {},
   "outputs": [
    {
     "ename": "TypeError",
     "evalue": "cannot determine truth value of Relational",
     "output_type": "error",
     "traceback": [
      "\u001b[0;31m---------------------------------------------------------------------------\u001b[0m",
      "\u001b[0;31mValueError\u001b[0m                                Traceback (most recent call last)",
      "\u001b[0;31mValueError\u001b[0m: Error from parse_expr with transformed code: \"add (mul (Integer (3 ),Symbol ('x' )),log (mul (Integer (2 ),Symbol ('x' ))))\"",
      "\nThe above exception was the direct cause of the following exception:\n",
      "\u001b[0;31mTypeError\u001b[0m                                 Traceback (most recent call last)",
      "\u001b[0;32m/tmp/ipykernel_7995/1282014817.py\u001b[0m in \u001b[0;36m<module>\u001b[0;34m\u001b[0m\n\u001b[1;32m      9\u001b[0m \u001b[0;31m#print(str(nroot))\u001b[0m\u001b[0;34m\u001b[0m\u001b[0;34m\u001b[0m\u001b[0m\n\u001b[1;32m     10\u001b[0m \u001b[0mstrtree\u001b[0m \u001b[0;34m=\u001b[0m \u001b[0;34m'add(mul(3,x),log(mul(2, x)))'\u001b[0m\u001b[0;34m\u001b[0m\u001b[0;34m\u001b[0m\u001b[0m\n\u001b[0;32m---> 11\u001b[0;31m \u001b[0msympy\u001b[0m\u001b[0;34m.\u001b[0m\u001b[0msympify\u001b[0m\u001b[0;34m(\u001b[0m\u001b[0mstrtree\u001b[0m\u001b[0;34m,\u001b[0m\u001b[0mlocals\u001b[0m\u001b[0;34m=\u001b[0m\u001b[0mconverter2\u001b[0m\u001b[0;34m)\u001b[0m\u001b[0;34m\u001b[0m\u001b[0;34m\u001b[0m\u001b[0m\n\u001b[0m",
      "\u001b[0;32m/usr/lib/python3/dist-packages/sympy/core/sympify.py\u001b[0m in \u001b[0;36msympify\u001b[0;34m(a, locals, convert_xor, strict, rational, evaluate)\u001b[0m\n\u001b[1;32m    470\u001b[0m     \u001b[0;32mtry\u001b[0m\u001b[0;34m:\u001b[0m\u001b[0;34m\u001b[0m\u001b[0;34m\u001b[0m\u001b[0m\n\u001b[1;32m    471\u001b[0m         \u001b[0ma\u001b[0m \u001b[0;34m=\u001b[0m \u001b[0ma\u001b[0m\u001b[0;34m.\u001b[0m\u001b[0mreplace\u001b[0m\u001b[0;34m(\u001b[0m\u001b[0;34m'\\n'\u001b[0m\u001b[0;34m,\u001b[0m \u001b[0;34m''\u001b[0m\u001b[0;34m)\u001b[0m\u001b[0;34m\u001b[0m\u001b[0;34m\u001b[0m\u001b[0m\n\u001b[0;32m--> 472\u001b[0;31m         \u001b[0mexpr\u001b[0m \u001b[0;34m=\u001b[0m \u001b[0mparse_expr\u001b[0m\u001b[0;34m(\u001b[0m\u001b[0ma\u001b[0m\u001b[0;34m,\u001b[0m \u001b[0mlocal_dict\u001b[0m\u001b[0;34m=\u001b[0m\u001b[0mlocals\u001b[0m\u001b[0;34m,\u001b[0m \u001b[0mtransformations\u001b[0m\u001b[0;34m=\u001b[0m\u001b[0mtransformations\u001b[0m\u001b[0;34m,\u001b[0m \u001b[0mevaluate\u001b[0m\u001b[0;34m=\u001b[0m\u001b[0mevaluate\u001b[0m\u001b[0;34m)\u001b[0m\u001b[0;34m\u001b[0m\u001b[0;34m\u001b[0m\u001b[0m\n\u001b[0m\u001b[1;32m    473\u001b[0m     \u001b[0;32mexcept\u001b[0m \u001b[0;34m(\u001b[0m\u001b[0mTokenError\u001b[0m\u001b[0;34m,\u001b[0m \u001b[0mSyntaxError\u001b[0m\u001b[0;34m)\u001b[0m \u001b[0;32mas\u001b[0m \u001b[0mexc\u001b[0m\u001b[0;34m:\u001b[0m\u001b[0;34m\u001b[0m\u001b[0;34m\u001b[0m\u001b[0m\n\u001b[1;32m    474\u001b[0m         \u001b[0;32mraise\u001b[0m \u001b[0mSympifyError\u001b[0m\u001b[0;34m(\u001b[0m\u001b[0;34m'could not parse %r'\u001b[0m \u001b[0;34m%\u001b[0m \u001b[0ma\u001b[0m\u001b[0;34m,\u001b[0m \u001b[0mexc\u001b[0m\u001b[0;34m)\u001b[0m\u001b[0;34m\u001b[0m\u001b[0;34m\u001b[0m\u001b[0m\n",
      "\u001b[0;32m/usr/lib/python3/dist-packages/sympy/parsing/sympy_parser.py\u001b[0m in \u001b[0;36mparse_expr\u001b[0;34m(s, local_dict, transformations, global_dict, evaluate)\u001b[0m\n\u001b[1;32m   1024\u001b[0m         \u001b[0;32mfor\u001b[0m \u001b[0mi\u001b[0m \u001b[0;32min\u001b[0m \u001b[0mlocal_dict\u001b[0m\u001b[0;34m.\u001b[0m\u001b[0mpop\u001b[0m\u001b[0;34m(\u001b[0m\u001b[0;32mNone\u001b[0m\u001b[0;34m,\u001b[0m \u001b[0;34m(\u001b[0m\u001b[0;34m)\u001b[0m\u001b[0;34m)\u001b[0m\u001b[0;34m:\u001b[0m\u001b[0;34m\u001b[0m\u001b[0;34m\u001b[0m\u001b[0m\n\u001b[1;32m   1025\u001b[0m             \u001b[0mlocal_dict\u001b[0m\u001b[0;34m[\u001b[0m\u001b[0mi\u001b[0m\u001b[0;34m]\u001b[0m \u001b[0;34m=\u001b[0m \u001b[0;32mNone\u001b[0m\u001b[0;34m\u001b[0m\u001b[0;34m\u001b[0m\u001b[0m\n\u001b[0;32m-> 1026\u001b[0;31m         \u001b[0;32mraise\u001b[0m \u001b[0me\u001b[0m \u001b[0;32mfrom\u001b[0m \u001b[0mValueError\u001b[0m\u001b[0;34m(\u001b[0m\u001b[0;34mf\"Error from parse_expr with transformed code: {code!r}\"\u001b[0m\u001b[0;34m)\u001b[0m\u001b[0;34m\u001b[0m\u001b[0;34m\u001b[0m\u001b[0m\n\u001b[0m\u001b[1;32m   1027\u001b[0m \u001b[0;34m\u001b[0m\u001b[0m\n\u001b[1;32m   1028\u001b[0m \u001b[0;34m\u001b[0m\u001b[0m\n",
      "\u001b[0;32m/usr/lib/python3/dist-packages/sympy/parsing/sympy_parser.py\u001b[0m in \u001b[0;36mparse_expr\u001b[0;34m(s, local_dict, transformations, global_dict, evaluate)\u001b[0m\n\u001b[1;32m   1015\u001b[0m \u001b[0;34m\u001b[0m\u001b[0m\n\u001b[1;32m   1016\u001b[0m     \u001b[0;32mtry\u001b[0m\u001b[0;34m:\u001b[0m\u001b[0;34m\u001b[0m\u001b[0;34m\u001b[0m\u001b[0m\n\u001b[0;32m-> 1017\u001b[0;31m         \u001b[0mrv\u001b[0m \u001b[0;34m=\u001b[0m \u001b[0meval_expr\u001b[0m\u001b[0;34m(\u001b[0m\u001b[0mcode\u001b[0m\u001b[0;34m,\u001b[0m \u001b[0mlocal_dict\u001b[0m\u001b[0;34m,\u001b[0m \u001b[0mglobal_dict\u001b[0m\u001b[0;34m)\u001b[0m\u001b[0;34m\u001b[0m\u001b[0;34m\u001b[0m\u001b[0m\n\u001b[0m\u001b[1;32m   1018\u001b[0m         \u001b[0;31m# restore neutral definitions for names\u001b[0m\u001b[0;34m\u001b[0m\u001b[0;34m\u001b[0m\u001b[0m\n\u001b[1;32m   1019\u001b[0m         \u001b[0;32mfor\u001b[0m \u001b[0mi\u001b[0m \u001b[0;32min\u001b[0m \u001b[0mlocal_dict\u001b[0m\u001b[0;34m.\u001b[0m\u001b[0mpop\u001b[0m\u001b[0;34m(\u001b[0m\u001b[0;32mNone\u001b[0m\u001b[0;34m,\u001b[0m \u001b[0;34m(\u001b[0m\u001b[0;34m)\u001b[0m\u001b[0;34m)\u001b[0m\u001b[0;34m:\u001b[0m\u001b[0;34m\u001b[0m\u001b[0;34m\u001b[0m\u001b[0m\n",
      "\u001b[0;32m/usr/lib/python3/dist-packages/sympy/parsing/sympy_parser.py\u001b[0m in \u001b[0;36meval_expr\u001b[0;34m(code, local_dict, global_dict)\u001b[0m\n\u001b[1;32m    909\u001b[0m     \u001b[0mGenerally\u001b[0m\u001b[0;34m,\u001b[0m\u001b[0;31m \u001b[0m\u001b[0;31m`\u001b[0m\u001b[0;31m`\u001b[0m\u001b[0mparse_expr\u001b[0m\u001b[0;31m`\u001b[0m\u001b[0;31m`\u001b[0m \u001b[0mshould\u001b[0m \u001b[0mbe\u001b[0m \u001b[0mused\u001b[0m\u001b[0;34m.\u001b[0m\u001b[0;34m\u001b[0m\u001b[0;34m\u001b[0m\u001b[0m\n\u001b[1;32m    910\u001b[0m     \"\"\"\n\u001b[0;32m--> 911\u001b[0;31m     expr = eval(\n\u001b[0m\u001b[1;32m    912\u001b[0m         code, global_dict, local_dict)  # take local objects in preference\n\u001b[1;32m    913\u001b[0m     \u001b[0;32mreturn\u001b[0m \u001b[0mexpr\u001b[0m\u001b[0;34m\u001b[0m\u001b[0;34m\u001b[0m\u001b[0m\n",
      "\u001b[0;32m<string>\u001b[0m in \u001b[0;36m<module>\u001b[0;34m\u001b[0m\n",
      "\u001b[0;32m/tmp/ipykernel_7995/1282014817.py\u001b[0m in \u001b[0;36m<lambda>\u001b[0;34m(x)\u001b[0m\n\u001b[1;32m      5\u001b[0m     \u001b[0;34m'mul'\u001b[0m\u001b[0;34m:\u001b[0m \u001b[0;32mlambda\u001b[0m \u001b[0mx\u001b[0m\u001b[0;34m,\u001b[0m \u001b[0my\u001b[0m \u001b[0;34m:\u001b[0m \u001b[0mx\u001b[0m\u001b[0;34m*\u001b[0m\u001b[0my\u001b[0m\u001b[0;34m,\u001b[0m\u001b[0;34m\u001b[0m\u001b[0;34m\u001b[0m\u001b[0m\n\u001b[1;32m      6\u001b[0m     \u001b[0;34m'inv'\u001b[0m\u001b[0;34m:\u001b[0m \u001b[0;32mlambda\u001b[0m \u001b[0mx\u001b[0m \u001b[0;34m:\u001b[0m \u001b[0;36m1\u001b[0m\u001b[0;34m/\u001b[0m\u001b[0mx\u001b[0m\u001b[0;34m,\u001b[0m\u001b[0;34m\u001b[0m\u001b[0;34m\u001b[0m\u001b[0m\n\u001b[0;32m----> 7\u001b[0;31m     \u001b[0;34m'log'\u001b[0m\u001b[0;34m:\u001b[0m \u001b[0;32mlambda\u001b[0m \u001b[0mx\u001b[0m\u001b[0;34m:\u001b[0m \u001b[0mmath\u001b[0m\u001b[0;34m.\u001b[0m\u001b[0mlog\u001b[0m\u001b[0;34m(\u001b[0m\u001b[0mabs\u001b[0m\u001b[0;34m(\u001b[0m\u001b[0mx\u001b[0m\u001b[0;34m)\u001b[0m\u001b[0;34m)\u001b[0m \u001b[0;32mif\u001b[0m \u001b[0mabs\u001b[0m\u001b[0;34m(\u001b[0m\u001b[0mx\u001b[0m\u001b[0;34m)\u001b[0m\u001b[0;34m>\u001b[0m\u001b[0;36m0.001\u001b[0m \u001b[0;32melse\u001b[0m \u001b[0mx\u001b[0m\u001b[0;34m,\u001b[0m\u001b[0;34m\u001b[0m\u001b[0;34m\u001b[0m\u001b[0m\n\u001b[0m\u001b[1;32m      8\u001b[0m }\n\u001b[1;32m      9\u001b[0m \u001b[0;31m#print(str(nroot))\u001b[0m\u001b[0;34m\u001b[0m\u001b[0;34m\u001b[0m\u001b[0m\n",
      "\u001b[0;32m/usr/lib/python3/dist-packages/sympy/core/relational.py\u001b[0m in \u001b[0;36m__bool__\u001b[0;34m(self)\u001b[0m\n\u001b[1;32m    396\u001b[0m \u001b[0;34m\u001b[0m\u001b[0m\n\u001b[1;32m    397\u001b[0m     \u001b[0;32mdef\u001b[0m \u001b[0m__bool__\u001b[0m\u001b[0;34m(\u001b[0m\u001b[0mself\u001b[0m\u001b[0;34m)\u001b[0m\u001b[0;34m:\u001b[0m\u001b[0;34m\u001b[0m\u001b[0;34m\u001b[0m\u001b[0m\n\u001b[0;32m--> 398\u001b[0;31m         \u001b[0;32mraise\u001b[0m \u001b[0mTypeError\u001b[0m\u001b[0;34m(\u001b[0m\u001b[0;34m\"cannot determine truth value of Relational\"\u001b[0m\u001b[0;34m)\u001b[0m\u001b[0;34m\u001b[0m\u001b[0;34m\u001b[0m\u001b[0m\n\u001b[0m\u001b[1;32m    399\u001b[0m \u001b[0;34m\u001b[0m\u001b[0m\n\u001b[1;32m    400\u001b[0m     \u001b[0;32mdef\u001b[0m \u001b[0m_eval_as_set\u001b[0m\u001b[0;34m(\u001b[0m\u001b[0mself\u001b[0m\u001b[0;34m)\u001b[0m\u001b[0;34m:\u001b[0m\u001b[0;34m\u001b[0m\u001b[0;34m\u001b[0m\u001b[0m\n",
      "\u001b[0;31mTypeError\u001b[0m: cannot determine truth value of Relational"
     ]
    }
   ],
   "source": [
    "from sympy import *\n",
    "import math\n",
    "converter2 = {\n",
    "    'add': np.add,\n",
    "    'mul': lambda x, y : x*y,\n",
    "    'inv': lambda x : 1/x,\n",
    "    'log': lambda x: math.log(abs(x)) if abs(x)>0.001 else x,\n",
    "}\n",
    "#print(str(nroot))\n",
    "strtree = 'add(mul(3,x),log(mul(2, x)))'\n",
    "sympy.sympify(strtree,locals=converter2)"
   ]
  },
  {
   "cell_type": "code",
   "execution_count": 21,
   "metadata": {},
   "outputs": [
    {
     "data": {
      "text/plain": [
       "array([0, 2, 4, 6, 8])"
      ]
     },
     "execution_count": 21,
     "metadata": {},
     "output_type": "execute_result"
    }
   ],
   "source": [
    "x1, x2 = range(5,10), range(0,10,2)\n",
    "FUNC_DICT['min'](x1,x2)"
   ]
  },
  {
   "cell_type": "code",
   "execution_count": 3,
   "metadata": {},
   "outputs": [],
   "source": [
    "def target_func(x): # evolution's target\n",
    "    return x*x*x*x + x*x*x + x*x + x + 1\n",
    "\n",
    "def generate_dataset(): # generate 101 data points from target_func\n",
    "    x_list, y_list = [], []\n",
    "    for x in range(-100,101,2): \n",
    "        x /= 100\n",
    "        x_list.append(x)\n",
    "        y_list.append(target_func(x))\n",
    "    return np.array(x_list), np.array(y_list)\n",
    "\n",
    "x, y = generate_dataset()"
   ]
  },
  {
   "cell_type": "code",
   "execution_count": 31,
   "metadata": {},
   "outputs": [
    {
     "name": "stderr",
     "output_type": "stream",
     "text": [
      "Progress:   0%|          | 0/50 [00:00<?, ?it/s]\n"
     ]
    },
    {
     "ename": "AxisError",
     "evalue": "axis 1 is out of bounds for array of dimension 1",
     "output_type": "error",
     "traceback": [
      "\u001b[1;31m---------------------------------------------------------------------------\u001b[0m",
      "\u001b[1;31mAxisError\u001b[0m                                 Traceback (most recent call last)",
      "\u001b[1;32me:\\Pioren\\Downloads\\MasterIA\\SC1\\CEvol\\c_evol\\gp_notebook.ipynb Celda 8\u001b[0m in \u001b[0;36m<module>\u001b[1;34m\u001b[0m\n\u001b[0;32m      <a href='vscode-notebook-cell:/e%3A/Pioren/Downloads/MasterIA/SC1/CEvol/c_evol/gp_notebook.ipynb#W2sZmlsZQ%3D%3D?line=0'>1</a>\u001b[0m gp \u001b[39m=\u001b[39m GP(M\u001b[39m=\u001b[39m\u001b[39m500\u001b[39m, prob_node_symb\u001b[39m=\u001b[39m\u001b[39m0.3\u001b[39m, func_list\u001b[39m=\u001b[39m[\u001b[39m'\u001b[39m\u001b[39madd\u001b[39m\u001b[39m'\u001b[39m,\u001b[39m'\u001b[39m\u001b[39mmul\u001b[39m\u001b[39m'\u001b[39m,\u001b[39m'\u001b[39m\u001b[39msub\u001b[39m\u001b[39m'\u001b[39m], depth_penalty\u001b[39m=\u001b[39m\u001b[39m0.005\u001b[39m)\n\u001b[1;32m----> <a href='vscode-notebook-cell:/e%3A/Pioren/Downloads/MasterIA/SC1/CEvol/c_evol/gp_notebook.ipynb#W2sZmlsZQ%3D%3D?line=1'>2</a>\u001b[0m res \u001b[39m=\u001b[39m gp\u001b[39m.\u001b[39;49mexecute(x,y, generations\u001b[39m=\u001b[39;49m\u001b[39m50\u001b[39;49m)\n\u001b[0;32m      <a href='vscode-notebook-cell:/e%3A/Pioren/Downloads/MasterIA/SC1/CEvol/c_evol/gp_notebook.ipynb#W2sZmlsZQ%3D%3D?line=2'>3</a>\u001b[0m res\n",
      "File \u001b[1;32me:\\Pioren\\Downloads\\MasterIA\\SC1\\CEvol\\c_evol\\gp.py:203\u001b[0m, in \u001b[0;36mGP.execute\u001b[1;34m(self, x, y, generations, progressbar, resume)\u001b[0m\n\u001b[0;32m    200\u001b[0m     new_P\u001b[39m.\u001b[39mextend(\u001b[39mself\u001b[39m\u001b[39m.\u001b[39mtree_operate(tree) \u001b[39mfor\u001b[39;00m tree \u001b[39min\u001b[39;00m P_tournament)\n\u001b[0;32m    202\u001b[0m     \u001b[39mself\u001b[39m\u001b[39m.\u001b[39mP \u001b[39m=\u001b[39m np\u001b[39m.\u001b[39mfromiter(new_P, dtype\u001b[39m=\u001b[39mGPTree)\n\u001b[1;32m--> 203\u001b[0m     \u001b[39mself\u001b[39m\u001b[39m.\u001b[39mfitness \u001b[39m=\u001b[39m \u001b[39mself\u001b[39;49m\u001b[39m.\u001b[39;49meval_all_fitness(x,y)\u001b[39m#eval_fitness_vec(self.P, x=x, y=y)\u001b[39;00m\n\u001b[0;32m    204\u001b[0m     \u001b[39mself\u001b[39m\u001b[39m.\u001b[39mupdate_stats()\n\u001b[0;32m    205\u001b[0m \u001b[39mself\u001b[39m\u001b[39m.\u001b[39mtotal_generations \u001b[39m+\u001b[39m\u001b[39m=\u001b[39m generations\n",
      "File \u001b[1;32me:\\Pioren\\Downloads\\MasterIA\\SC1\\CEvol\\c_evol\\gp.py:165\u001b[0m, in \u001b[0;36mGP.eval_all_fitness\u001b[1;34m(self, x, y)\u001b[0m\n\u001b[0;32m    163\u001b[0m \u001b[39mif\u001b[39;00m \u001b[39mself\u001b[39m\u001b[39m.\u001b[39mcalc_weights:\n\u001b[0;32m    164\u001b[0m     \u001b[39mself\u001b[39m\u001b[39m.\u001b[39mweights \u001b[39m=\u001b[39m np\u001b[39m.\u001b[39masarray([\u001b[39mself\u001b[39m\u001b[39m.\u001b[39merror_fun(y_preds[:,i],y[i]) \u001b[39mfor\u001b[39;00m i \u001b[39min\u001b[39;00m \u001b[39mrange\u001b[39m(\u001b[39mlen\u001b[39m(y))])\n\u001b[1;32m--> 165\u001b[0m fitness \u001b[39m=\u001b[39m np\u001b[39m.\u001b[39;49mapply_along_axis(\u001b[39mself\u001b[39;49m\u001b[39m.\u001b[39;49merror_fun,\u001b[39m1\u001b[39;49m, y_preds, y, \u001b[39mself\u001b[39;49m\u001b[39m.\u001b[39;49mweights)\u001b[39m*\u001b[39m(\u001b[39m1\u001b[39m\u001b[39m+\u001b[39mnp\u001b[39m.\u001b[39mvectorize(GPTree\u001b[39m.\u001b[39mdepth)(\u001b[39mself\u001b[39m\u001b[39m.\u001b[39mP)\u001b[39m*\u001b[39m\u001b[39mself\u001b[39m\u001b[39m.\u001b[39mdepth_penalty)\n\u001b[0;32m    166\u001b[0m \u001b[39mreturn\u001b[39;00m fitness\n",
      "File \u001b[1;32m<__array_function__ internals>:180\u001b[0m, in \u001b[0;36mapply_along_axis\u001b[1;34m(*args, **kwargs)\u001b[0m\n",
      "File \u001b[1;32m~\\AppData\\Local\\Packages\\PythonSoftwareFoundation.Python.3.10_qbz5n2kfra8p0\\LocalCache\\local-packages\\Python310\\site-packages\\numpy\\lib\\shape_base.py:361\u001b[0m, in \u001b[0;36mapply_along_axis\u001b[1;34m(func1d, axis, arr, *args, **kwargs)\u001b[0m\n\u001b[0;32m    359\u001b[0m arr \u001b[39m=\u001b[39m asanyarray(arr)\n\u001b[0;32m    360\u001b[0m nd \u001b[39m=\u001b[39m arr\u001b[39m.\u001b[39mndim\n\u001b[1;32m--> 361\u001b[0m axis \u001b[39m=\u001b[39m normalize_axis_index(axis, nd)\n\u001b[0;32m    363\u001b[0m \u001b[39m# arr, with the iteration axis at the end\u001b[39;00m\n\u001b[0;32m    364\u001b[0m in_dims \u001b[39m=\u001b[39m \u001b[39mlist\u001b[39m(\u001b[39mrange\u001b[39m(nd))\n",
      "\u001b[1;31mAxisError\u001b[0m: axis 1 is out of bounds for array of dimension 1"
     ]
    }
   ],
   "source": [
    "gp = GP(M=500, prob_node_symb=0.3, func_list=['add','mul','sub'], depth_penalty=0.005)\n",
    "res = gp.execute(x,y, generations=50)\n",
    "res"
   ]
  },
  {
   "cell_type": "code",
   "execution_count": null,
   "metadata": {},
   "outputs": [
    {
     "name": "stdout",
     "output_type": "stream",
     "text": [
      "add( sub( 0.2952801041923916 add( mul( -0.624139509898952 add( mul( x 0.5792269840929951 ) 0.5792269840929951 ) ) sub( mul( sub( sub( mul( x 0.5792269840929951 ) x ) add( x add( -0.6108761438072075 mul( add( 0.5792269840929951 x ) mul( add( add( mul( x 0.5792269840929951 ) 0.5792269840929951 ) x ) add( mul( x 0.5792269840929951 ) 0.5614627377054815 ) ) ) ) ) ) add( -0.7960526054422072 x ) ) x ) ) ) add( x x ) )\n"
     ]
    },
    {
     "data": {
      "image/png": "[encoded data removed]",
      "text/plain": [
       "<Figure size 432x288 with 1 Axes>"
      ]
     },
     "metadata": {},
     "output_type": "display_data"
    },
    {
     "data": {
      "image/png": "[encoded data removed]",
      "text/plain": [
       "<Figure size 432x288 with 1 Axes>"
      ]
     },
     "metadata": {},
     "output_type": "display_data"
    }
   ],
   "source": [
    "import matplotlib.pyplot as plt\n",
    "plt.figure(figsize=(6,4))\n",
    "plt.plot(res['best_fitness'], label='best_fitness')\n",
    "plt.plot(res['mean_fitness'], label='mean_fitness')\n",
    "plt.ylim(0,res['mean_fitness'][5])\n",
    "plt.legend()\n",
    "\n",
    "plt.figure(figsize=(6,4))\n",
    "plt.plot(res['P_max_depth'], label='P_max_depth')\n",
    "plt.plot(res['P_mean_depth'], label='P_mean_depth')\n",
    "plt.legend()\n",
    "print(res['best_trees'][-1])"
   ]
  },
  {
   "cell_type": "code",
   "execution_count": 7,
   "metadata": {},
   "outputs": [
    {
     "name": "stdout",
     "output_type": "stream",
     "text": [
      "(10900,)\n",
      "(10900,)\n"
     ]
    }
   ],
   "source": [
    "import pandas as pd\n",
    "csvfile = pd.read_csv('unknown_function.csv')\n",
    "x=csvfile['x'].values\n",
    "print(x.shape)\n",
    "y=csvfile['y'].values\n",
    "print(y.shape)"
   ]
  },
  {
   "cell_type": "code",
   "execution_count": 13,
   "metadata": {},
   "outputs": [
    {
     "data": {
      "text/plain": [
       "{'total_generations': 50,\n",
       " 'best_fitness': array([80.21177761, 80.21177761, 80.21177761, 80.21177761, 80.21177761,\n",
       "        80.21177761, 80.21177761, 80.21177761, 80.21177761, 80.21177761,\n",
       "        80.21177761, 80.21177761, 80.21177761, 80.21177761, 80.21177761,\n",
       "        80.21177761, 80.21177761, 80.21177761, 80.21177761, 80.21177761,\n",
       "        80.21177761, 80.21177761, 80.21177761, 80.21177761, 80.21177761,\n",
       "        80.21177761, 80.21177761, 80.21177761, 80.21177761, 80.21177761,\n",
       "        80.21177761, 80.21177761, 80.21177761, 80.21177761, 80.21177761,\n",
       "        80.21177761, 80.21177761, 80.21177761, 80.21177761, 80.21177761,\n",
       "        80.21177761, 80.21177761, 80.21177761, 80.21177761, 80.21177761,\n",
       "        80.21177761, 80.21177761, 80.21177761, 80.21177761, 80.21177761,\n",
       "        80.21177761]),\n",
       " 'best_trees': array([Node(mul), Node(mul), Node(mul), Node(mul), Node(mul), Node(mul),\n",
       "        Node(mul), Node(mul), Node(mul), Node(mul), Node(mul), Node(mul),\n",
       "        Node(mul), Node(mul), Node(mul), Node(mul), Node(mul), Node(mul),\n",
       "        Node(mul), Node(mul), Node(mul), Node(mul), Node(mul), Node(mul),\n",
       "        Node(mul), Node(mul), Node(mul), Node(mul), Node(mul), Node(mul),\n",
       "        Node(mul), Node(mul), Node(mul), Node(mul), Node(mul), Node(mul),\n",
       "        Node(mul), Node(mul), Node(mul), Node(mul), Node(mul), Node(mul),\n",
       "        Node(mul), Node(mul), Node(mul), Node(mul), Node(mul), Node(mul),\n",
       "        Node(mul), Node(mul), Node(mul)], dtype=object),\n",
       " 'mean_fitness': array([5.93632362e+13, 1.89262394e+03, 3.39681756e+07, 1.84419371e+03,\n",
       "        1.10071317e+08, 6.04164414e+07, 1.32172083e+08, 9.23951671e+07,\n",
       "        1.19349934e+08, 1.29758082e+08, 1.13227929e+08, 1.11408188e+08,\n",
       "        7.25976896e+07, 8.50930114e+07, 6.84257670e+07, 4.06070444e+07,\n",
       "        7.52815221e+07, 3.50773223e+07, 6.10678817e+07, 6.70711967e+07,\n",
       "        4.56942375e+07, 7.81491734e+07, 4.06059786e+07, 7.81276253e+07,\n",
       "        6.28984570e+07, 3.89345348e+07, 7.99658422e+07, 6.64447730e+07,\n",
       "        6.27359277e+07, 5.66004226e+07, 4.61285563e+07, 3.89247418e+07,\n",
       "        5.59926559e+07, 7.93461548e+07, 6.45641997e+07, 7.81364243e+07,\n",
       "        1.17501398e+08, 1.41343372e+07, 7.87436256e+07, 5.53938984e+07,\n",
       "        8.42740076e+07, 2.78275688e+07, 2.78550415e+07, 6.76751582e+07,\n",
       "        7.57983370e+07, 6.36005743e+07, 1.00818755e+12, 5.19476387e+07,\n",
       "        4.10939465e+07, 3.44686096e+07, 5.66023819e+07]),\n",
       " 'P_max_depth': array([21, 13, 13, 13, 13, 17,  9,  5,  8,  6, 14, 11, 10, 10, 10, 10, 10,\n",
       "        16, 13, 10, 10, 10, 10, 10, 10, 10, 20, 10, 10, 10, 14, 10, 10, 10,\n",
       "        10, 12, 10, 19, 10, 10, 10, 10, 10, 10, 16, 11, 30, 10, 10, 10, 10]),\n",
       " 'P_mean_depth': array([4.07 , 1.104, 3.118, 1.296, 3.37 , 3.984, 3.294, 3.292, 3.31 ,\n",
       "        3.248, 3.292, 3.296, 4.054, 3.362, 3.972, 4.084, 3.44 , 4.208,\n",
       "        4.13 , 4.126, 4.116, 4.106, 4.124, 4.148, 4.144, 4.166, 4.15 ,\n",
       "        4.122, 4.152, 4.102, 4.174, 4.152, 4.12 , 4.116, 4.158, 4.142,\n",
       "        4.11 , 4.192, 4.15 , 4.152, 4.122, 4.17 , 4.184, 4.126, 4.144,\n",
       "        4.198, 4.228, 4.122, 4.19 , 4.134, 4.162])}"
      ]
     },
     "execution_count": 13,
     "metadata": {},
     "output_type": "execute_result"
    }
   ],
   "source": [
    "gp = GP(M=500, max_depth=50, prob_node_symb=0.3, depth_penalty=0.005)\n",
    "res = gp.execute(x,y, generations=50)\n",
    "res"
   ]
  },
  {
   "cell_type": "code",
   "execution_count": 14,
   "metadata": {},
   "outputs": [
    {
     "name": "stdout",
     "output_type": "stream",
     "text": [
      "mul( inv( sub( log( x ) 0.6540999163420471 ) ) x )\n"
     ]
    },
    {
     "data": {
      "image/png": "[encoded data removed]",
      "text/plain": [
       "<Figure size 432x288 with 1 Axes>"
      ]
     },
     "metadata": {
      "needs_background": "light"
     },
     "output_type": "display_data"
    },
    {
     "data": {
      "image/png": "[encoded data removed]",
      "text/plain": [
       "<Figure size 432x288 with 1 Axes>"
      ]
     },
     "metadata": {
      "needs_background": "light"
     },
     "output_type": "display_data"
    }
   ],
   "source": [
    "import matplotlib.pyplot as plt\n",
    "plt.figure(figsize=(6,4))\n",
    "plt.plot(res['best_fitness'], label='best_fitness')\n",
    "plt.plot(res['mean_fitness'], label='mean_fitness')\n",
    "plt.ylim(0,res['mean_fitness'][5])\n",
    "plt.legend()\n",
    "\n",
    "plt.figure(figsize=(6,4))\n",
    "plt.plot(res['P_max_depth'], label='P_max_depth')\n",
    "plt.plot(res['P_mean_depth'], label='P_mean_depth')\n",
    "plt.legend()\n",
    "print(res['best_trees'][-1])"
   ]
  },
  {
   "cell_type": "code",
   "execution_count": 2,
   "metadata": {},
   "outputs": [],
   "source": [
    "nroot = GPTree('add', \n",
    "    left=GPTree('mul',\n",
    "        left=GPTree(3),\n",
    "        right=GPTree('x')), \n",
    "    right=GPTree('inv', \n",
    "        left=GPTree(0.5)))\n",
    "nroot2 = GPTree('mul',\n",
    "        left=GPTree(3),\n",
    "        right=GPTree('x')) \n",
    "    "
   ]
  },
  {
   "cell_type": "code",
   "execution_count": 9,
   "metadata": {},
   "outputs": [
    {
     "data": {
      "text/plain": [
       "array([2, 1])"
      ]
     },
     "execution_count": 9,
     "metadata": {},
     "output_type": "execute_result"
    }
   ],
   "source": [
    "np.asarray([tree.depth() for tree in [nroot,nroot2]])"
   ]
  },
  {
   "cell_type": "code",
   "execution_count": 3,
   "metadata": {},
   "outputs": [
    {
     "data": {
      "image/svg+xml": "<?xml version=\"1.0\" encoding=\"UTF-8\" standalone=\"no\"?>\n<!DOCTYPE svg PUBLIC \"-//W3C//DTD SVG 1.1//EN\"\n \"http://www.w3.org/Graphics/SVG/1.1/DTD/svg11.dtd\">\n<!-- Generated by graphviz version 6.0.2 (20221011.1828)\n -->\n<!-- Pages: 1 -->\n<svg width=\"246pt\" height=\"191pt\"\n viewBox=\"0.00 0.00 246.00 191.00\" xmlns=\"http://www.w3.org/2000/svg\" xmlns:xlink=\"http://www.w3.org/1999/xlink\">\n<g id=\"graph0\" class=\"graph\" transform=\"scale(1 1) rotate(0) translate(4 187)\">\n<polygon fill=\"white\" stroke=\"none\" points=\"-4,4 -4,-187 242,-187 242,4 -4,4\"/>\n<!-- 2239054252592 -->\n<g id=\"node1\" class=\"node\">\n<title>2239054252592</title>\n<path fill=\"lightgray\" stroke=\"lightgray\" d=\"M115.5,-146.5C115.5,-146.5 169.5,-146.5 169.5,-146.5 175.5,-146.5 181.5,-152.5 181.5,-158.5 181.5,-158.5 181.5,-170.5 181.5,-170.5 181.5,-176.5 175.5,-182.5 169.5,-182.5 169.5,-182.5 115.5,-182.5 115.5,-182.5 109.5,-182.5 103.5,-176.5 103.5,-170.5 103.5,-170.5 103.5,-158.5 103.5,-158.5 103.5,-152.5 109.5,-146.5 115.5,-146.5\"/>\n<text text-anchor=\"middle\" x=\"113.5\" y=\"-160.8\" font-family=\"Times New Roman,serif\" font-size=\"14.00\"> </text>\n<polyline fill=\"none\" stroke=\"lightgray\" points=\"123.5,-146.5 123.5,-182.5\"/>\n<text text-anchor=\"middle\" x=\"142.5\" y=\"-160.8\" font-family=\"Times New Roman,serif\" font-size=\"14.00\">add</text>\n<polyline fill=\"none\" stroke=\"lightgray\" points=\"161.5,-146.5 161.5,-182.5\"/>\n<text text-anchor=\"middle\" x=\"171.5\" y=\"-160.8\" font-family=\"Times New Roman,serif\" font-size=\"14.00\"> </text>\n</g>\n<!-- 2239056471344 -->\n<g id=\"node2\" class=\"node\">\n<title>2239056471344</title>\n<path fill=\"lightgray\" stroke=\"lightgray\" d=\"M57,-73.5C57,-73.5 110,-73.5 110,-73.5 116,-73.5 122,-79.5 122,-85.5 122,-85.5 122,-97.5 122,-97.5 122,-103.5 116,-109.5 110,-109.5 110,-109.5 57,-109.5 57,-109.5 51,-109.5 45,-103.5 45,-97.5 45,-97.5 45,-85.5 45,-85.5 45,-79.5 51,-73.5 57,-73.5\"/>\n<text text-anchor=\"middle\" x=\"55\" y=\"-87.8\" font-family=\"Times New Roman,serif\" font-size=\"14.00\"> </text>\n<polyline fill=\"none\" stroke=\"lightgray\" points=\"65,-73.5 65,-109.5\"/>\n<text text-anchor=\"middle\" x=\"83.5\" y=\"-87.8\" font-family=\"Times New Roman,serif\" font-size=\"14.00\">mul</text>\n<polyline fill=\"none\" stroke=\"lightgray\" points=\"102,-73.5 102,-109.5\"/>\n<text text-anchor=\"middle\" x=\"112\" y=\"-87.8\" font-family=\"Times New Roman,serif\" font-size=\"14.00\"> </text>\n</g>\n<!-- 2239054252592&#45;&gt;2239056471344 -->\n<g id=\"edge1\" class=\"edge\">\n<title>2239054252592:l&#45;&gt;2239056471344:v</title>\n<path fill=\"none\" stroke=\"black\" d=\"M113.5,-146C113.5,-129.24 94.07,-129.63 86.49,-119.57\"/>\n<polygon fill=\"black\" stroke=\"black\" points=\"89.82,-118.5 83.5,-110 83.14,-120.59 89.82,-118.5\"/>\n</g>\n<!-- 2239054252688 -->\n<g id=\"node3\" class=\"node\">\n<title>2239054252688</title>\n<path fill=\"lightgray\" stroke=\"lightgray\" d=\"M177,-73.5C177,-73.5 226,-73.5 226,-73.5 232,-73.5 238,-79.5 238,-85.5 238,-85.5 238,-97.5 238,-97.5 238,-103.5 232,-109.5 226,-109.5 226,-109.5 177,-109.5 177,-109.5 171,-109.5 165,-103.5 165,-97.5 165,-97.5 165,-85.5 165,-85.5 165,-79.5 171,-73.5 177,-73.5\"/>\n<text text-anchor=\"middle\" x=\"175\" y=\"-87.8\" font-family=\"Times New Roman,serif\" font-size=\"14.00\"> </text>\n<polyline fill=\"none\" stroke=\"lightgray\" points=\"185,-73.5 185,-109.5\"/>\n<text text-anchor=\"middle\" x=\"201.5\" y=\"-87.8\" font-family=\"Times New Roman,serif\" font-size=\"14.00\">inv</text>\n<polyline fill=\"none\" stroke=\"lightgray\" points=\"218,-73.5 218,-109.5\"/>\n<text text-anchor=\"middle\" x=\"228\" y=\"-87.8\" font-family=\"Times New Roman,serif\" font-size=\"14.00\"> </text>\n</g>\n<!-- 2239054252592&#45;&gt;2239054252688 -->\n<g id=\"edge2\" class=\"edge\">\n<title>2239054252592:r&#45;&gt;2239054252688:v</title>\n<path fill=\"none\" stroke=\"black\" d=\"M171.5,-146C171.5,-129.24 190.93,-129.63 198.51,-119.57\"/>\n<polygon fill=\"black\" stroke=\"black\" points=\"201.86,-120.59 201.5,-110 195.18,-118.5 201.86,-120.59\"/>\n</g>\n<!-- 2239044172480 -->\n<g id=\"node4\" class=\"node\">\n<title>2239044172480</title>\n<path fill=\"lightgray\" stroke=\"lightgray\" d=\"M12,-0.5C12,-0.5 51,-0.5 51,-0.5 57,-0.5 63,-6.5 63,-12.5 63,-12.5 63,-24.5 63,-24.5 63,-30.5 57,-36.5 51,-36.5 51,-36.5 12,-36.5 12,-36.5 6,-36.5 0,-30.5 0,-24.5 0,-24.5 0,-12.5 0,-12.5 0,-6.5 6,-0.5 12,-0.5\"/>\n<text text-anchor=\"middle\" x=\"10\" y=\"-14.8\" font-family=\"Times New Roman,serif\" font-size=\"14.00\"> </text>\n<polyline fill=\"none\" stroke=\"lightgray\" points=\"20,-0.5 20,-36.5\"/>\n<text text-anchor=\"middle\" x=\"31.5\" y=\"-14.8\" font-family=\"Times New Roman,serif\" font-size=\"14.00\">3</text>\n<polyline fill=\"none\" stroke=\"lightgray\" points=\"43,-0.5 43,-36.5\"/>\n<text text-anchor=\"middle\" x=\"53\" y=\"-14.8\" font-family=\"Times New Roman,serif\" font-size=\"14.00\"> </text>\n</g>\n<!-- 2239056471344&#45;&gt;2239044172480 -->\n<g id=\"edge3\" class=\"edge\">\n<title>2239056471344:l&#45;&gt;2239044172480:v</title>\n<path fill=\"none\" stroke=\"black\" d=\"M54.5,-73C54.5,-58.17 40.46,-56.13 34.32,-46.89\"/>\n<polygon fill=\"black\" stroke=\"black\" points=\"37.61,-45.66 31.5,-37 30.88,-47.58 37.61,-45.66\"/>\n</g>\n<!-- 2239056467936 -->\n<g id=\"node5\" class=\"node\">\n<title>2239056467936</title>\n<path fill=\"lightgray\" stroke=\"lightgray\" d=\"M93,-0.5C93,-0.5 132,-0.5 132,-0.5 138,-0.5 144,-6.5 144,-12.5 144,-12.5 144,-24.5 144,-24.5 144,-30.5 138,-36.5 132,-36.5 132,-36.5 93,-36.5 93,-36.5 87,-36.5 81,-30.5 81,-24.5 81,-24.5 81,-12.5 81,-12.5 81,-6.5 87,-0.5 93,-0.5\"/>\n<text text-anchor=\"middle\" x=\"91\" y=\"-14.8\" font-family=\"Times New Roman,serif\" font-size=\"14.00\"> </text>\n<polyline fill=\"none\" stroke=\"lightgray\" points=\"101,-0.5 101,-36.5\"/>\n<text text-anchor=\"middle\" x=\"112.5\" y=\"-14.8\" font-family=\"Times New Roman,serif\" font-size=\"14.00\">x</text>\n<polyline fill=\"none\" stroke=\"lightgray\" points=\"124,-0.5 124,-36.5\"/>\n<text text-anchor=\"middle\" x=\"134\" y=\"-14.8\" font-family=\"Times New Roman,serif\" font-size=\"14.00\"> </text>\n</g>\n<!-- 2239056471344&#45;&gt;2239056467936 -->\n<g id=\"edge4\" class=\"edge\">\n<title>2239056471344:r&#45;&gt;2239056467936:v</title>\n<path fill=\"none\" stroke=\"black\" d=\"M112.5,-73C112.5,-61 112.5,-55.75 112.5,-47.12\"/>\n<polygon fill=\"black\" stroke=\"black\" points=\"116,-47 112.5,-37 109,-47 116,-47\"/>\n</g>\n<!-- 2239054252832 -->\n<g id=\"node6\" class=\"node\">\n<title>2239054252832</title>\n<path fill=\"lightgray\" stroke=\"lightgray\" d=\"M174.5,-0.5C174.5,-0.5 224.5,-0.5 224.5,-0.5 230.5,-0.5 236.5,-6.5 236.5,-12.5 236.5,-12.5 236.5,-24.5 236.5,-24.5 236.5,-30.5 230.5,-36.5 224.5,-36.5 224.5,-36.5 174.5,-36.5 174.5,-36.5 168.5,-36.5 162.5,-30.5 162.5,-24.5 162.5,-24.5 162.5,-12.5 162.5,-12.5 162.5,-6.5 168.5,-0.5 174.5,-0.5\"/>\n<text text-anchor=\"middle\" x=\"172.5\" y=\"-14.8\" font-family=\"Times New Roman,serif\" font-size=\"14.00\"> </text>\n<polyline fill=\"none\" stroke=\"lightgray\" points=\"182.5,-0.5 182.5,-36.5\"/>\n<text text-anchor=\"middle\" x=\"199.5\" y=\"-14.8\" font-family=\"Times New Roman,serif\" font-size=\"14.00\">0.5</text>\n<polyline fill=\"none\" stroke=\"lightgray\" points=\"216.5,-0.5 216.5,-36.5\"/>\n<text text-anchor=\"middle\" x=\"226.5\" y=\"-14.8\" font-family=\"Times New Roman,serif\" font-size=\"14.00\"> </text>\n</g>\n<!-- 2239054252688&#45;&gt;2239054252832 -->\n<g id=\"edge5\" class=\"edge\">\n<title>2239054252688:l&#45;&gt;2239054252832:v</title>\n<path fill=\"none\" stroke=\"black\" d=\"M174.5,-73C174.5,-57.63 190.07,-56.23 196.63,-46.75\"/>\n<polygon fill=\"black\" stroke=\"black\" points=\"200.04,-47.58 199.5,-37 193.32,-45.61 200.04,-47.58\"/>\n</g>\n</g>\n</svg>\n",
      "text/plain": [
       "<graphviz.graphs.Digraph at 0x209516ebb50>"
      ]
     },
     "execution_count": 3,
     "metadata": {},
     "output_type": "execute_result"
    }
   ],
   "source": [
    "nroot.graphviz()"
   ]
  },
  {
   "cell_type": "code",
   "execution_count": 55,
   "metadata": {},
   "outputs": [
    {
     "name": "stdout",
     "output_type": "stream",
     "text": [
      "48\n",
      "Np.array mal:\n",
      "[[Node(add) Node(mul) Node(inv) Node(3) Node(x) Node(0.5)]\n",
      " [Node(add) Node(mul) Node(inv) Node(3) Node(x) Node(0.5)]]\n",
      "(2, 6) 12\n",
      "8 96\n",
      "224\n",
      "Np.array creando vacia y luego asignando:\n",
      "[Node(add) Node(add)]\n",
      "(2,) 2\n",
      "8 16\n",
      "128\n",
      "Np.array tomando de iterador (lista)\n",
      "[Node(add) Node(add)]\n",
      "(2,) 2\n",
      "8 16\n",
      "128\n"
     ]
    }
   ],
   "source": [
    "from sys import getsizeof\n",
    "treelist = [nroot, nroot] # para probar, lista de trees con mismo size\n",
    "print(getsizeof(nroot)) # este arbol ocupa 48 bytes\n",
    "\n",
    "arr = np.array([nroot, nroot], dtype=object) # si lo hacemos como se haria normalmente sale mal\n",
    "print('Np.array mal:')\n",
    "print(arr) # coge cada arbol como lista de nodos y lo estira fila a fila\n",
    "print(arr.shape, arr.size) # 2 dimensional, muchos mas elementos\n",
    "print(arr.itemsize, arr.nbytes) # como guarda punteros cada el. son 8 bytes, pero guarda mas\n",
    "print(getsizeof(arr)) # la np.array acaba ocupando mucho mas\n",
    "\n",
    "arr2 = np.ndarray(2, dtype=GPTree) # asi lo creamos vacio\n",
    "arr2[:] = treelist # y luego lo llenamos\n",
    "print('Np.array creando vacia y luego asignando:')\n",
    "print(arr2) \n",
    "print(arr2.shape, arr2.size) # dimensiones y num de elementos bien, las dos raices\n",
    "print(arr2.itemsize, arr2.nbytes) # el tam por item es el mismo al ser punteros, pero solo cogiendo raices\n",
    "print(getsizeof(arr2)) # ocupa en total mucho menos espacio\n",
    "\n",
    "arr3 = np.fromiter(treelist, dtype=GPTree) # o podemos hacer esto y ya esta, 1 linea easy\n",
    "print('Np.array tomando de iterador (lista)')\n",
    "print(arr3) # todo esto igual que el de arriba\n",
    "print(arr3.shape, arr3.size)\n",
    "print(arr3.itemsize, arr3.nbytes) \n",
    "print(getsizeof(arr3))"
   ]
  },
  {
   "cell_type": "code",
   "execution_count": 59,
   "metadata": {},
   "outputs": [],
   "source": [
    "def softcast(P):\n",
    "\tpop_casted=np.empty(len(P),dtype=object)\n",
    "\tpop_casted[:]=P[:]"
   ]
  },
  {
   "cell_type": "code",
   "execution_count": 6,
   "metadata": {},
   "outputs": [
    {
     "name": "stdout",
     "output_type": "stream",
     "text": [
      "1.370072603225708e-06\n",
      "1.3078539371490478e-06\n"
     ]
    }
   ],
   "source": [
    "import time\n",
    "P = [nroot]*100\n",
    "N = 100000\n",
    "time_2_start = time.time()\n",
    "for i in range(N):\n",
    "    arr2 = softcast(P)\n",
    "time_2_end = time.time()\n",
    "print((time_2_end-time_2_start)/N)\n",
    "\n",
    "time_3_start = time.time()\n",
    "for i in range(N):\n",
    "    arr3 = np.fromiter(P, dtype=GPTree)\n",
    "time_3_end = time.time()\n",
    "print((time_3_end-time_3_start)/N)"
   ]
  },
  {
   "cell_type": "code",
   "execution_count": 22,
   "metadata": {},
   "outputs": [
    {
     "name": "stdout",
     "output_type": "stream",
     "text": [
      "\n",
      "                       _________________________add________________________\n",
      "                      /                                                    \\\n",
      "                   _mul_____________________                              _add____________________\n",
      "                  /                         \\                            /                        \\\n",
      "         _______inv                _________inv               _________inv               _________mul\n",
      "        /                         /                          /                          /            \\\n",
      "3.2510915228502         0.11328550004494287         3.5055644120404454         0.7421924941812785     x\n",
      "\n",
      "\n",
      "                            ___________________sub__________________________________________\n",
      "                           /                                                                \\\n",
      "                      ___add________                                    ____________________inv\n",
      "                     /              \\                                  /\n",
      "          _________sub       0.450276073260939               ________sub________\n",
      "         /            \\                                     /                   \\\n",
      "1.2721712465799513     x                           1.804355139479001     2.4485778005598724\n",
      "\n"
     ]
    }
   ],
   "source": [
    "MAX_DEPTH=3\n",
    "MIN_DEPTH=2\n",
    "PROB_SYMBOL=0.5\n",
    "\n",
    "def random_terminal():\n",
    "\tif random.random()<PROB_SYMBOL:\n",
    "\t\treturn SYMBOL\n",
    "\telse:\n",
    "\t\treturn 5*random.random()\n",
    "\t\t\n",
    "def gen_tree(depth=0):\n",
    "\tif depth<MIN_DEPTH:\n",
    "\t\tif depth==0:\n",
    "\t\t\tn1 = GPTree(random.choice(FUNC_AR2_LIST))\n",
    "\t\telse:\n",
    "\t\t\tn1 = GPTree(random.choice(FUNC_LIST))\n",
    "\telif depth>=MAX_DEPTH:\n",
    "\t\tn1 = GPTree(random_terminal())\n",
    "\telse:\n",
    "\t\tif random.random()<0.5:\n",
    "\t\t\tn1 = GPTree(random.choice(FUNC_LIST))\n",
    "\t\telse:\n",
    "\t\t\tn1 = GPTree(random_terminal())\n",
    "\tif n1.is_func():\n",
    "\t\tn1.left=gen_tree(depth+1)\n",
    "\t\tif n1.arity()==2:\n",
    "\t\t\tn1.right=gen_tree(depth+1)\n",
    "\treturn n1\t\t\n",
    "n1, n2 = gen_tree(), gen_tree()\n",
    "n1.pprint()\n",
    "n2.pprint()"
   ]
  },
  {
   "cell_type": "code",
   "execution_count": 51,
   "metadata": {},
   "outputs": [
    {
     "name": "stdout",
     "output_type": "stream",
     "text": [
      "\n",
      "          _________add__________________________________________________\n",
      "         /                                                              \\\n",
      "0.7421924941812785                                                     _add______________________________________________________________________________\n",
      "                                                                      /                                                                                  \\\n",
      "                                                                   _inv                            ______________________________________________________add________\n",
      "                                                                  /                               /                                                                 \\\n",
      "                                            ____________________inv                            _sub________________________________________________          0.450276073260939\n",
      "                                           /                                                  /                                                    \\\n",
      "                                 ________sub________                                 _______inv                           _________________________mul\n",
      "                                /                   \\                               /                                    /                            \\\n",
      "                       1.804355139479001     2.4485778005598724             3.2510915228502                   _________mul_____________________        x\n",
      "                                                                                                             /                                 \\\n",
      "                                                                                                    1.2721712465799513                _________inv\n",
      "                                                                                                                                     /\n",
      "                                                                                                                           0.11328550004494287\n",
      "\n",
      "\n",
      "  sub________\n",
      " /           \\\n",
      "x     3.5055644120404454\n",
      "\n"
     ]
    }
   ],
   "source": [
    "def crossover(tree1,tree2):\n",
    "\tnode1=np.random.choice(tree1.preorder[1:])\n",
    "\tnode2=np.random.choice(tree2.preorder[1:])\n",
    "\t\n",
    "\tnode1.val,node2.val=node2.val,node1.val\n",
    "\tnode1.right,node2.right=node2.right,node1.right\n",
    "\tnode1.left,node2.left=node2.left,node1.left\n",
    "\treturn tree1,tree2\n",
    "n1_x, n2_x = crossover(n1, n2)\n",
    "n1_x.pprint()\n",
    "n2_x.pprint()"
   ]
  }
 ],
 "metadata": {
  "kernelspec": {
   "display_name": "Python 3.10.8 64-bit (microsoft store)",
   "language": "python",
   "name": "python3"
  },
  "language_info": {
   "codemirror_mode": {
    "name": "ipython",
    "version": 3
   },
   "file_extension": ".py",
   "mimetype": "text/x-python",
   "name": "python",
   "nbconvert_exporter": "python",
   "pygments_lexer": "ipython3",
   "version": "3.10.8"
  },
  "vscode": {
   "interpreter": {
    "hash": "d3f0d207b648d1175a3b2bbb912118d4848417bdf0b1a5227ab0916c63215186"
   }
  }
 },
 "nbformat": 4,
 "nbformat_minor": 2
}
